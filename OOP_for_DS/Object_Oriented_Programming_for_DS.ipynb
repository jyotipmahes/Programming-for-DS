{
 "cells": [
  {
   "cell_type": "markdown",
   "metadata": {},
   "source": [
    "# Object Oriented Programming Basics"
   ]
  },
  {
   "cell_type": "markdown",
   "metadata": {},
   "source": [
    "We start this notebook with the assumption that we **understand the basics on python** and looking to learn more about writing python scripts which are more efficient and optimized with modularity. It will also **help us better understand other people's code and look at the source code of various ML libraries such as SKlearn**. We will try to explore various code structures we normally see in such libraries and understand what they really mean. The content is referenced from [link](https://python-textbok.readthedocs.io/en/1.0/Classes.html#defining-and-using-a-class)"
   ]
  },
  {
   "cell_type": "markdown",
   "metadata": {},
   "source": [
    "## Class and object"
   ]
  },
  {
   "cell_type": "markdown",
   "metadata": {},
   "source": [
    "A **class** is a **blueprint** for multiple objects, often called instances. The **class encapsulates** the **state and behavior** of an object. For example, **dictionary** is a **class** which has **state** such as **key** , **value**  and **behavior** such as **items()** , **popitem()** etc. Let us see how a class is defined various things we can see in class definitions. Next we will understand what each of those components mean and how to use them"
   ]
  },
  {
   "cell_type": "code",
   "execution_count": 1,
   "metadata": {},
   "outputs": [],
   "source": [
    "class Numbers:\n",
    "    MULTIPLIER = 3.5\n",
    "\n",
    "    def __init__(self, x, y):\n",
    "        self.x = x\n",
    "        self.y = y\n",
    "\n",
    "    def add(self):\n",
    "        return self.x + self.y\n",
    "    \n",
    "    def __str__(self):\n",
    "        return \"%s, %s\" %(self.x, self.y)\n",
    "\n",
    "    @classmethod\n",
    "    def multiply(cls, a):\n",
    "        return cls.MULTIPLIER * a\n",
    "\n",
    "    @staticmethod\n",
    "    def subtract(b, c):\n",
    "        return b - c\n",
    "\n",
    "    @property\n",
    "    def value(self):\n",
    "        return (self.x, self.y)\n",
    "\n",
    "    @value.setter\n",
    "    def value(self, xy_tuple):\n",
    "        self.x, self.y = xy_tuple\n",
    "\n",
    "    @value.deleter\n",
    "    def value(self):\n",
    "        del self.x\n",
    "        del self.y"
   ]
  },
  {
   "cell_type": "markdown",
   "metadata": {},
   "source": [
    "### Key word `class`"
   ]
  },
  {
   "cell_type": "markdown",
   "metadata": {},
   "source": [
    "We start the class definition with the `class` keyword, followed by the class name i.e `Numbers` and a colon. We would list any **parent classes in between round brackets before the colon**, but this class **doesn’t have any**, so we can leave them out. We will discuss more on it when we discuss inheritance."
   ]
  },
  {
   "cell_type": "markdown",
   "metadata": {},
   "source": [
    "## `__init__`"
   ]
  },
  {
   "cell_type": "markdown",
   "metadata": {},
   "source": [
    "` __init__` which is a special method which initializes a new instance of the class. The purpose of this method is thus to set up a new object using data that we have provided.<br>\n",
    "**Note**:`__init__` is sometimes called the object’s constructor, because it is used similarly to the way that constructors are used in other languages, but that is not technically correct – it’s better to call it the initialiser. There is a different method called `__new__` which is more analogous to a constructor, but it is hardly ever used.\n"
   ]
  },
  {
   "cell_type": "markdown",
   "metadata": {},
   "source": [
    "### `__abc __` vs `_xyz`"
   ]
  },
  {
   "cell_type": "markdown",
   "metadata": {},
   "source": [
    "In Python, **special methods** are a set of **predefined methods** you can use to enrich your classes. They are easy to recognize because they **start and end with double underscores**, for example `__init__` or `__str__`.These **dunders** or **special methods** in Python are also sometimes called **magic methods** but there’s nothing “magical” about them. These are just **built in methods** in python which **can be modified** as per our need.<br>\n",
    "\n",
    "`_xyz`: This syntax is used to differentiate **instance variables** that should be treated as **private** i.e cannot be accessed except from inside an object. However, in **python there is no private type**. However, there is a **convention** that is followed by most Python code: **a name prefixed with an underscore (e.g. `_spam`) should be treated as a non-public part of the API (whether it is a function, a method or a data member)** \n"
   ]
  },
  {
   "cell_type": "markdown",
   "metadata": {},
   "source": [
    "### `self`"
   ]
  },
  {
   "cell_type": "markdown",
   "metadata": {},
   "source": [
    "`self` represents the **instance** of the class. By using the `self` keyword we can **access the attributes and methods of the class** in python. Whenever we **call a method on an object**, the **object itself is automatically passed** in as the first parameter. This gives us **a way to access the object’s properties** from inside the object’s methods. Note that `self` is **not a keyword** and used as **convention**. We can **use any other word**."
   ]
  },
  {
   "cell_type": "markdown",
   "metadata": {},
   "source": [
    "### Class vs Instance attributes"
   ]
  },
  {
   "cell_type": "markdown",
   "metadata": {},
   "source": [
    "`MULTIPLIER = 3.5`: **Class attributes** belong to the class itself they will be shared by all the instances. Such attributes are defined in the class body parts usually at the top, for legibility.<br>\n",
    "\n",
    "`self.x` and `self.y`: Following are **Instance Attributes** which are unique to each instance. They gets created when we run `__init__`. Note that we can create more attributes **dynamically** but it is frowned upon. We will explore such examples later.<br>\n",
    "\n",
    "Initialising all our attributes in `__init__`, even if we just set them to empty values, makes our code less error-prone. It also makes it easier to read and understand – we can see at a glance what attributes our object has.\n",
    "\n",
    "**Note**: **Class Attributes** can be accessed **both** by **class** and **class instance** but **instance attribute** is **only** accessed through **class instance**  "
   ]
  },
  {
   "cell_type": "code",
   "execution_count": 2,
   "metadata": {},
   "outputs": [
    {
     "name": "stdout",
     "output_type": "stream",
     "text": [
      "3\n",
      "3.5\n"
     ]
    }
   ],
   "source": [
    "int1 = Numbers(3,4)\n",
    "print(int1.x)\n",
    "print(int1.MULTIPLIER)"
   ]
  },
  {
   "cell_type": "code",
   "execution_count": 3,
   "metadata": {},
   "outputs": [
    {
     "name": "stdout",
     "output_type": "stream",
     "text": [
      "3.5\n"
     ]
    }
   ],
   "source": [
    "print(Numbers.MULTIPLIER)"
   ]
  },
  {
   "cell_type": "code",
   "execution_count": 4,
   "metadata": {},
   "outputs": [
    {
     "ename": "AttributeError",
     "evalue": "type object 'Numbers' has no attribute 'x'",
     "output_type": "error",
     "traceback": [
      "\u001b[0;31m---------------------------------------------------------------------------\u001b[0m",
      "\u001b[0;31mAttributeError\u001b[0m                            Traceback (most recent call last)",
      "\u001b[0;32m<ipython-input-4-273743a1e539>\u001b[0m in \u001b[0;36m<module>\u001b[0;34m()\u001b[0m\n\u001b[0;32m----> 1\u001b[0;31m \u001b[0mprint\u001b[0m\u001b[0;34m(\u001b[0m\u001b[0mNumbers\u001b[0m\u001b[0;34m.\u001b[0m\u001b[0mx\u001b[0m\u001b[0;34m)\u001b[0m\u001b[0;34m\u001b[0m\u001b[0m\n\u001b[0m",
      "\u001b[0;31mAttributeError\u001b[0m: type object 'Numbers' has no attribute 'x'"
     ]
    }
   ],
   "source": [
    "print(Numbers.x)"
   ]
  },
  {
   "cell_type": "markdown",
   "metadata": {},
   "source": [
    "Class attributes are often used to define constants which are closely associated with a particular class. <br>\n",
    "When we set an attribute on an **instance** which has the **same name** as a **class attribute**, we are overriding the class attribute with an **instance attribute**, which will **take precedence** over it.\n",
    "\n",
    "We should, however, be careful when a class attribute is of a **mutable type** – because if we **modify it in-place**, we will **affect all objects** of that class at the same time. Remember that all instances share the same class attributes"
   ]
  },
  {
   "cell_type": "code",
   "execution_count": 5,
   "metadata": {},
   "outputs": [],
   "source": [
    "a= {\"a\":1}"
   ]
  },
  {
   "cell_type": "code",
   "execution_count": 6,
   "metadata": {},
   "outputs": [
    {
     "data": {
      "text/plain": [
       "('a', 1)"
      ]
     },
     "execution_count": 6,
     "metadata": {},
     "output_type": "execute_result"
    }
   ],
   "source": [
    "a.popitem()"
   ]
  },
  {
   "cell_type": "markdown",
   "metadata": {},
   "source": [
    "### `getattr`, `setattr` , `hasattr` "
   ]
  },
  {
   "cell_type": "markdown",
   "metadata": {},
   "source": [
    "`getattr` is a built-in function, not a method on the object. It takes the object as its first parameter. The second parameter is the name of the variable as a string, and the optional third parameter is the default value to be returned if the attribute does not exist. If we do not specify a default value, `getattr` will raise an exception if the attribute does not exist."
   ]
  },
  {
   "cell_type": "code",
   "execution_count": 7,
   "metadata": {},
   "outputs": [
    {
     "name": "stdout",
     "output_type": "stream",
     "text": [
      "3\n"
     ]
    }
   ],
   "source": [
    "print(getattr(int1, 'x', None))"
   ]
  },
  {
   "cell_type": "code",
   "execution_count": 8,
   "metadata": {},
   "outputs": [
    {
     "name": "stdout",
     "output_type": "stream",
     "text": [
      "None\n"
     ]
    }
   ],
   "source": [
    "print(getattr(int1, 'z', None))"
   ]
  },
  {
   "cell_type": "markdown",
   "metadata": {},
   "source": [
    "`setattr` allows us to set the value of an attribute. The first parameter of `setattr` is the object, the second is the name of the function, and the third is the new value for the attribute."
   ]
  },
  {
   "cell_type": "code",
   "execution_count": 9,
   "metadata": {},
   "outputs": [
    {
     "data": {
      "text/plain": [
       "5"
      ]
     },
     "execution_count": 9,
     "metadata": {},
     "output_type": "execute_result"
    }
   ],
   "source": [
    "setattr(int1, 'x', 5)\n",
    "int1.x"
   ]
  },
  {
   "cell_type": "markdown",
   "metadata": {},
   "source": [
    "`hasattr` detects whether an attribute exists"
   ]
  },
  {
   "cell_type": "code",
   "execution_count": 10,
   "metadata": {},
   "outputs": [
    {
     "name": "stdout",
     "output_type": "stream",
     "text": [
      "True\n",
      "False\n"
     ]
    }
   ],
   "source": [
    "print(hasattr(int1,'x'))\n",
    "print(hasattr(int1, 'z'))"
   ]
  },
  {
   "cell_type": "markdown",
   "metadata": {},
   "source": [
    "### @ Decorators"
   ]
  },
  {
   "cell_type": "markdown",
   "metadata": {},
   "source": [
    "**Decorators** are functions which are used to **modify the behaviour** of other **functions**. There are some **built-in decorators** which are often used in class definitions.<br>\n",
    "\n",
    "**@classmethod**\n"
   ]
  },
  {
   "cell_type": "markdown",
   "metadata": {},
   "source": [
    "`@classmethod`: Just like we can define class attributes, which are shared between all instances of a class, we can define class methods. We do this by using the `@classmethod` decorator to decorate an ordinary method.\n",
    "\n",
    "A class method still has its calling object as the first parameter, but **by convention** we **rename** this parameter from `self` to `cls`. If we call the **class method** from an **instance**, this **parameter** will contain the **instance object**, but if we call it from the **class** it will contain the **class object**. By calling the parameter `cls` we **remind ourselves** that it is **not guaranteed to have any instance attributes.**\n",
    "\n",
    "**What are class methods good for?**\n",
    "Sometimes there are tasks associated with a class which we can perform using constants and other class attributes, without needing to create any class instances. If we had to use instance methods for these tasks, we would need to create an instance for no reason, which would be wasteful. \n",
    "\n",
    "In example above, `multiply()` is a class method which is used to modify the value of class attribute"
   ]
  },
  {
   "cell_type": "markdown",
   "metadata": {},
   "source": [
    "**@staticmethod**<br>\n",
    "\n",
    "A `static method` **doesn’t** have the **calling object passed** into it as the **first parameter**. This means that it **doesn’t have access to the rest of the class or instance at all.** We can **call** them from an **instance or a class object**, but they are **most commonly called from class objects**, like class methods.\n",
    "\n",
    "If we are using a class to group together related methods which don’t need to access each other or any other data on the class, we may want to use this technique. The advantage of using static methods is that we eliminate unnecessary cls or self parameters from our method definitions. The disadvantage is that if we do occasionally want to refer to another class method or attribute inside a static method we have to write the class name out in full, which can be much more verbose than using the cls variable which is available to us inside a class method."
   ]
  },
  {
   "cell_type": "markdown",
   "metadata": {},
   "source": [
    "**Instance Method**<br>\n",
    "\n",
    "Similar to **instance attribute** instance method are accessed using the instance and has `self` passed as the first parameter. In above example **add()** is an instance method. A similar example to compare all 3 method types:"
   ]
  },
  {
   "cell_type": "code",
   "execution_count": 11,
   "metadata": {},
   "outputs": [
    {
     "name": "stdout",
     "output_type": "stream",
     "text": [
      "Jane Smith\n",
      "['Mr', 'Mrs', 'Ms']\n",
      "['Mr', 'Mrs', 'Ms']\n",
      "['Mrs', 'Ms']\n",
      "['Mrs', 'Ms']\n"
     ]
    }
   ],
   "source": [
    "class Person:\n",
    "    TITLES = ('Dr', 'Mr', 'Mrs', 'Ms')\n",
    "\n",
    "    def __init__(self, name, surname):\n",
    "        self.name = name\n",
    "        self.surname = surname\n",
    "\n",
    "    def fullname(self): # instance method\n",
    "        # instance object accessible through self\n",
    "        return \"%s %s\" % (self.name, self.surname)\n",
    "\n",
    "    @classmethod\n",
    "    def allowed_titles_starting_with(cls, startswith): # class method\n",
    "        # class or instance object accessible through cls\n",
    "        return [t for t in cls.TITLES if t.startswith(startswith)]\n",
    "\n",
    "    @staticmethod\n",
    "    def allowed_titles_ending_with(endswith): # static method\n",
    "        # no parameter for class or instance object\n",
    "        # we have to use Person directly\n",
    "        return [t for t in Person.TITLES if t.endswith(endswith)]\n",
    "\n",
    "\n",
    "jane = Person(\"Jane\", \"Smith\")\n",
    "\n",
    "print(jane.fullname())\n",
    "\n",
    "print(jane.allowed_titles_starting_with(\"M\"))\n",
    "print(Person.allowed_titles_starting_with(\"M\"))\n",
    "\n",
    "print(jane.allowed_titles_ending_with(\"s\"))\n",
    "print(Person.allowed_titles_ending_with(\"s\"))"
   ]
  },
  {
   "cell_type": "markdown",
   "metadata": {},
   "source": [
    "**@property**<br>\n",
    "\n",
    "The `@property` decorator lets us **make a method behave like an attribute.** We normally use it simply access and return object attributes, When it accesses and return the value of various attributes, it is called as **getter** as it **get** the values of attribute.\n",
    "\n",
    "**Setter**: We can also use a different method to update the value of the attribute instead of accessing it directly. It is called as setter. As shown in example above, **@value.setter** helps in modifying the attribute values.\n",
    "\n",
    "**deleter**: Similarly it has in deleting the attribute values.\n",
    "\n",
    "\n",
    "\n",
    "Something which is often considered an advantage of setters and getters is that we can change the way that an attribute is generated inside the object without affecting any code which uses the object. For example, suppose that we initially created a Person class which has a fullname attribute, but later we want to change the class to have separate name and surname attributes which we combine to create a full name. If we always access the fullname attribute through a setter, we can just rewrite the setter – none of the code which calls the setter will have to be changed.\n",
    "\n",
    "But what if our code accesses the fullname attribute directly? We can write a fullname method which returns the right value, but a method has to be called. Fortunately, the @property decorator lets us make a method behave like an attribute.\n",
    "\n",
    "**The getter, setter and deleter methods must all have the same name** In example above, it is **value()**. A different example to show this in action:"
   ]
  },
  {
   "cell_type": "code",
   "execution_count": 12,
   "metadata": {},
   "outputs": [
    {
     "name": "stdout",
     "output_type": "stream",
     "text": [
      "Jane Smith\n",
      "Jane Doe\n",
      "Jane\n",
      "Doe\n"
     ]
    }
   ],
   "source": [
    "class Person:\n",
    "    def __init__(self, name, surname):\n",
    "        self.name = name\n",
    "        self.surname = surname\n",
    "\n",
    "    @property\n",
    "    def fullname(self):\n",
    "        return \"%s %s\" % (self.name, self.surname)\n",
    "\n",
    "    @fullname.setter\n",
    "    def fullname(self, value):\n",
    "        # this is much more complicated in real life\n",
    "        name, surname = value.split(\" \", 1)\n",
    "        self.name = name\n",
    "        self.surname = surname\n",
    "\n",
    "    @fullname.deleter\n",
    "    def fullname(self):\n",
    "        del self.name\n",
    "        del self.surname\n",
    "\n",
    "jane = Person(\"Jane\", \"Smith\")\n",
    "print(jane.fullname)\n",
    "\n",
    "jane.fullname = \"Jane Doe\"\n",
    "print(jane.fullname)\n",
    "print(jane.name)\n",
    "print(jane.surname)"
   ]
  },
  {
   "cell_type": "markdown",
   "metadata": {},
   "source": [
    "### Overloading built in methods"
   ]
  },
  {
   "cell_type": "markdown",
   "metadata": {},
   "source": [
    "Any class that you define has **object as its parent class** even if you **don’t explicitly say so** – so your class will have a lot of **default attributes and methods that any Python object has**."
   ]
  },
  {
   "cell_type": "markdown",
   "metadata": {},
   "source": [
    "Here are some examples of special object properties:\n",
    "\n",
    "`__init__`: the initialisation method of an object, which is called when the object is created.<br>\n",
    "`__str__`: the string representation method of an object, which is called when you use the str function to convert that object to a string. <br>\n",
    "`__class__`: an attribute which stores the the class (or type) of an object – this is what is returned when you use the type function on the object.<br>\n",
    "`__eq__`: a method which determines whether this object is equal to another. There are also other methods for determining if it’s not equal, less than, etc.. These methods are used in object comparisons, for example when we use the equality operator == to check if two objects are equal.<br>\n",
    "`__add__` is a method which allows this object to be added to another object. There are equivalent methods for all the other arithmetic operators. Not all objects support all arithemtic operations – numbers have all of these methods defined, but other objects may only have a subset.<br>\n",
    "`__iter__`: a method which returns an iterator over the object – we will find it on strings, lists and other iterables. It is executed when we use the iter function on the object.<br>\n",
    "`__len__`: a method which calculates the length of an object – we will find it on sequences. It is executed when we use the len function of an object.<br>\n",
    "`__dict__`: a dictionary which contains all the instance attributes of an object, with their names as keys. It can be useful if we want to iterate over all the attributes of an object. `__dict__` does not include any methods, class attributes or special default attributes like `__class__`.\n",
    "\n",
    "We can also overload these special methods. For example, the purpose of the `__str__` method is to output a useful string representation of our object. but by default if we use the `str` function on a class object, it is mostly not useful. We can over ride it to be useful as shown above in example.\n"
   ]
  },
  {
   "cell_type": "code",
   "execution_count": 13,
   "metadata": {},
   "outputs": [
    {
     "name": "stdout",
     "output_type": "stream",
     "text": [
      "5, 4\n"
     ]
    }
   ],
   "source": [
    "print(int1)"
   ]
  },
  {
   "cell_type": "markdown",
   "metadata": {},
   "source": [
    "**Note: Python allows adding runtime member (Identifiable Characteristics) addition to the objects and but it is not advisable. Lets see this in action**\n"
   ]
  },
  {
   "cell_type": "code",
   "execution_count": 14,
   "metadata": {},
   "outputs": [],
   "source": [
    "class PostalAddress:\n",
    "    pass"
   ]
  },
  {
   "cell_type": "code",
   "execution_count": 15,
   "metadata": {},
   "outputs": [],
   "source": [
    "cP1 = PostalAddress()\n",
    "# Create an Instance for person ABC\n",
    "cP1.name = \"ABC\"\n",
    "cP1.street = \"CentralStreet - 1\"\n"
   ]
  },
  {
   "cell_type": "code",
   "execution_count": 16,
   "metadata": {},
   "outputs": [
    {
     "name": "stdout",
     "output_type": "stream",
     "text": [
      "ABC CentralStreet - 1\n"
     ]
    }
   ],
   "source": [
    "print(cP1.name, cP1.street)"
   ]
  },
  {
   "cell_type": "markdown",
   "metadata": {},
   "source": [
    "## Inheritance"
   ]
  },
  {
   "cell_type": "markdown",
   "metadata": {},
   "source": [
    "**Inheritance** is a way of **arranging objects in a hierarchy** from the most general to the most specific. \n",
    "\n",
    "We also often say that a **class is a subclass or child class of a class from which it inherits**, or that the other class is its **superclass or parent class**. \n",
    "\n",
    "Inheritance can help us to represent objects which have some differences and some similarities in the way they work. Inheritance is also a way of **reusing existing code easily**. If we already have a class which does almost what we want, we can create a **subclass** in which we **partially override some of its behaviour, or perhaps add some new functionality.**"
   ]
  },
  {
   "cell_type": "code",
   "execution_count": 17,
   "metadata": {},
   "outputs": [],
   "source": [
    "class Person:\n",
    "    def __init__(self, name, surname, number):\n",
    "        self.name = name\n",
    "        self.surname = surname\n",
    "        self.number = number\n",
    "\n",
    "\n",
    "class StaffMember(Person):\n",
    "    PERMANENT, TEMPORARY = range(2)\n",
    "\n",
    "    def __init__(self, employment_type, *args, **kwargs):\n",
    "        self.employment_type = employment_type\n",
    "        super(StaffMember, self).__init__(*args, **kwargs)\n",
    "\n",
    "class Lecturer(StaffMember):\n",
    "    def __init__(self, *args, **kwargs):\n",
    "        self.courses_taught = []\n",
    "        super(Lecturer, self).__init__(*args, **kwargs)\n",
    "\n",
    "    def assign_teaching(self, course):\n",
    "        self.courses_taught.append(course)\n",
    "\n",
    "\n",
    "\n",
    "\n",
    "bob = Lecturer(StaffMember.PERMANENT, \"Bob\", \"Jones\", \"123456789\")\n"
   ]
  },
  {
   "cell_type": "code",
   "execution_count": 18,
   "metadata": {},
   "outputs": [
    {
     "name": "stdout",
     "output_type": "stream",
     "text": [
      "0\n",
      "Bob\n",
      "Jones\n",
      "123456789\n"
     ]
    }
   ],
   "source": [
    "print(bob.employment_type)\n",
    "print(bob.name)\n",
    "print(bob.surname)\n",
    "print(bob.number)"
   ]
  },
  {
   "cell_type": "markdown",
   "metadata": {},
   "source": [
    "Our base class is Person, which represents any person associated with a university. We create a subclass to represent  staff members, and then a subclass of StaffMember for people who teach courses (as opposed to staff members who have administrative positions.)\n",
    "\n",
    "\n",
    "The `__init__` method of the base class **initialises** all the instance **variables** that are **common** to all subclasses. In each **subclass** we **override** the `__init__` method so that we can use it to initialise that class’s attributes – but we want the parent class’s attributes to be initialised as well, so we need to call the parent’s __init__ method from ours. **To find the right method, we use the `super` function** – when we pass in the current class and object as parameters, it will return a proxy object with the correct __init__ method, which we can then call.\n",
    "\n",
    "In each of our overridden `__init__` methods we **use** those of the **method’s parameters** which are **specific to our class** inside the method, and then **pass the remaining parameters** to the **parent class’s `__init__` method**. \n",
    "\n",
    "**A common convention is to add the specific parameters for each successive subclass to the beginning of the parameter list, and define all the other parameters using *args and **kwargs**\n",
    "\n",
    "This way the **subclass doesn’t need to know** the details about the **parent class’s parameters**. Because of this, **if we add a new parameter to the superclass’s**` __init__`, we will **only need to add it to all the places where we create that class or one of its subclasses** – we won’t also have to update all the child class definitions to include the new parameter.\n",
    "\n"
   ]
  },
  {
   "cell_type": "markdown",
   "metadata": {},
   "source": [
    "## Multiple Inheritance"
   ]
  },
  {
   "cell_type": "markdown",
   "metadata": {},
   "source": [
    "In Python it is **possible for a class to inherit from multiple other classes**. We could, for example, create a class called **Tutor**, which inherits from both **StaffMember** and **student**. But things get complicated if two parent classes implement the same method or attribute.\n",
    "\n",
    "Fortunately the **super function knows how to deal gracefully with multiple inheritance**."
   ]
  },
  {
   "cell_type": "markdown",
   "metadata": {},
   "source": [
    "### Mix Ins\n",
    "\n",
    "If we use multiple inheritance, it is often a good idea for us to **design our classes in a way which avoids the kind of ambiguity described above**. One way of doing this is to **split up optional functionality into mix-ins**. **A Mix-in is a class which is not intended to stand on its own** – it exists to **add extra functionality** to another class **through multiple inheritance**."
   ]
  },
  {
   "cell_type": "code",
   "execution_count": 19,
   "metadata": {},
   "outputs": [],
   "source": [
    "class Person:\n",
    "    def __init__(self, name, surname, number):\n",
    "        self.name = name\n",
    "        self.surname = surname\n",
    "        self.number = number\n",
    "\n",
    "\n",
    "class LearnerMixin:\n",
    "    def __init__(self):\n",
    "        self.classes = []\n",
    "\n",
    "    def enrol(self, course):\n",
    "        self.classes.append(course)\n",
    "\n",
    "\n",
    "class TeacherMixin:\n",
    "    def __init__(self):\n",
    "        self.courses_taught = []\n",
    "\n",
    "    def assign_teaching(self, course):\n",
    "        self.courses_taught.append(course)\n",
    "\n",
    "\n",
    "class Tutor(Person, LearnerMixin, TeacherMixin):\n",
    "    def __init__(self, *args, **kwargs):\n",
    "        super(Tutor, self).__init__(*args, **kwargs)\n"
   ]
  },
  {
   "cell_type": "markdown",
   "metadata": {},
   "source": [
    "Now Tutor inherits from one main class, **Person, and two mix-ins** which are **not related to Person**. Each mix-in is responsible for providing a specific piece of optional functionality. "
   ]
  },
  {
   "cell_type": "markdown",
   "metadata": {},
   "source": [
    "### Abstract classes and interfaces\n",
    "In some languages ,it is possible to create a class which **can’t be instantiated**. That means that we can’t use this class directly to create an object – we can **only inherit from the class**, and use the subclasses to create objects.\n",
    "\n",
    "In Python we can’t prevent anyone from instantiating a class, but we can create something similar to an abstract class by using NotImplementedError inside our method definitions. For example, here are some “abstract” classes which can be used as templates for shapes:"
   ]
  },
  {
   "cell_type": "code",
   "execution_count": 20,
   "metadata": {},
   "outputs": [],
   "source": [
    "class Shape2D:\n",
    "    def area(self):\n",
    "        raise NotImplementedError()\n",
    "\n",
    "class Square(Shape2D):\n",
    "    def __init__(self, width):\n",
    "        self.width = width\n",
    "\n",
    "    def area(self):\n",
    "        return self.width ** 2"
   ]
  },
  {
   "cell_type": "markdown",
   "metadata": {},
   "source": [
    "If an object inherits from 2DShape, it will gain that class’s default area method – but the default method raises an error which makes it clear to the user that a custom method must be defined in the child object."
   ]
  }
 ],
 "metadata": {
  "kernelspec": {
   "display_name": "Python 3",
   "language": "python",
   "name": "python3"
  },
  "language_info": {
   "codemirror_mode": {
    "name": "ipython",
    "version": 3
   },
   "file_extension": ".py",
   "mimetype": "text/x-python",
   "name": "python",
   "nbconvert_exporter": "python",
   "pygments_lexer": "ipython3",
   "version": "3.6.5"
  }
 },
 "nbformat": 4,
 "nbformat_minor": 2
}
