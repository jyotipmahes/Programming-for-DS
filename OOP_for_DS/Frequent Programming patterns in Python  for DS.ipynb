{
 "cells": [
  {
   "cell_type": "markdown",
   "metadata": {},
   "source": [
    "**In this notebook, I will explore various important concepts in python programming which we commonly observe and is very import to know to be an good programmer**"
   ]
  },
  {
   "cell_type": "markdown",
   "metadata": {},
   "source": [
    "## Iterators\n",
    "\n",
    "An **iterator** is an **object** that **implements the iterator protocol**. An **iterator protocol** is nothing but a **specific class** in Python which further has the `__next()__` method. Which means **every time you ask for the next value**, an **iterator knows how to compute it**. It **keeps** information about the **current state** of the **iterable** it is working on. The iterator **calls the next value** when you **call next()** on it. **An object that uses the `__next__()` method is ultimately an iterator.**\n",
    "\n",
    "\n",
    "**Python has several built-in objects**, which implement the iterator protocol and you must have seen some of these before: **lists, tuples, strings, dictionaries and even files**."
   ]
  },
  {
   "cell_type": "markdown",
   "metadata": {},
   "source": [
    "## Iterables\n",
    "\n",
    "An **Iterable** object is one that **can create Iterators** that can traverse or loop through each element in a Collection or Sequence that **supports either the Iteration Protocol or the Sequence Protocol** \n",
    "\n",
    "In Python to create an **iterable** object we can use two protocols the first is the **Iteration** ( `__iter__()` method), and the second is the **Sequence** ( `__getitem__()`), so as long as we have any of these two methods in our collection that object is iterable and can be iterated even user-defined classes.\n",
    "\n",
    "Its main purpose is to return all of its elements. Iterables can represent finite as well as infinite source of data. \n",
    "\n",
    "**Ok, there is a list of objects above how can we be certain that they are iterable?**<br>\n",
    "\n",
    "In a nutshell, they just need to carry the Iteration Protocol or Sequence Protocol methods(still to come)which are `__getitem__` and `__iter__` and can be seen by simply printing the object methods.\n",
    "\n"
   ]
  },
  {
   "cell_type": "code",
   "execution_count": 1,
   "metadata": {},
   "outputs": [
    {
     "name": "stdout",
     "output_type": "stream",
     "text": [
      "['__add__', '__class__', '__contains__', '__delattr__', '__delitem__', '__dir__', '__doc__', '__eq__', '__format__', '__ge__', '__getattribute__', '__getitem__', '__gt__', '__hash__', '__iadd__', '__imul__', '__init__', '__init_subclass__', '__iter__', '__le__', '__len__', '__lt__', '__mul__', '__ne__', '__new__', '__reduce__', '__reduce_ex__', '__repr__', '__reversed__', '__rmul__', '__setattr__', '__setitem__', '__sizeof__', '__str__', '__subclasshook__', 'append', 'clear', 'copy', 'count', 'extend', 'index', 'insert', 'pop', 'remove', 'reverse', 'sort']\n"
     ]
    }
   ],
   "source": [
    "a = [1,2]\n",
    "print(dir(a))"
   ]
  },
  {
   "cell_type": "markdown",
   "metadata": {},
   "source": [
    "**list is iterable, but it is not an iterator, thus we cannot iterate over its elements using next()**"
   ]
  },
  {
   "cell_type": "markdown",
   "metadata": {},
   "source": [
    "Ok, to summarize, **Iterable** is a **collection of items** that can be **iterated over**, but they **can only accomplish that by creating an iterator** that makes possible the return of each element of that collection, and to hammer it down let’s see an example."
   ]
  },
  {
   "cell_type": "code",
   "execution_count": 2,
   "metadata": {},
   "outputs": [
    {
     "name": "stdout",
     "output_type": "stream",
     "text": [
      "Next: dog\n",
      "X type: <class 'list'>\n",
      "y type: <class 'list_iterator'>\n"
     ]
    }
   ],
   "source": [
    "x = ['dog', 'cat']\n",
    "y = iter(x)\n",
    "print(\"Next:\",next(y))\n",
    "print(\"X type:\",type(x))\n",
    "print(\"y type:\",type(y))"
   ]
  },
  {
   "cell_type": "markdown",
   "metadata": {},
   "source": [
    "In the example, **x** is an **iterable** **(a list)** whereas **y** is an **list iterator**. They are both different data types in Python."
   ]
  },
  {
   "cell_type": "markdown",
   "metadata": {},
   "source": [
    "**Let's build range iterator that returns a series of number starting from 0 to n-1 from scratch**"
   ]
  },
  {
   "cell_type": "code",
   "execution_count": 3,
   "metadata": {},
   "outputs": [],
   "source": [
    "class Range:\n",
    "    def __init__(self, high, low=0):\n",
    "        self.current = low\n",
    "        self.high = high-1\n",
    "\n",
    "    def __iter__(self):\n",
    "        return self\n",
    "\n",
    "    def __next__(self):\n",
    "        if self.current > self.high:\n",
    "            raise StopIteration\n",
    "        else:\n",
    "            self.current += 1\n",
    "            return self.current - 1"
   ]
  },
  {
   "cell_type": "code",
   "execution_count": 4,
   "metadata": {},
   "outputs": [
    {
     "name": "stdout",
     "output_type": "stream",
     "text": [
      "[0, 1, 2, 3, 4, 5, 6, 7, 8, 9]\n"
     ]
    }
   ],
   "source": [
    "n_list = Range(10)    \n",
    "print(list(n_list))"
   ]
  },
  {
   "cell_type": "markdown",
   "metadata": {},
   "source": [
    "**Comparing to inbuilt range function gives the same value**"
   ]
  },
  {
   "cell_type": "code",
   "execution_count": 5,
   "metadata": {},
   "outputs": [
    {
     "data": {
      "text/plain": [
       "[0, 1, 2, 3, 4, 5, 6, 7, 8, 9]"
      ]
     },
     "execution_count": 5,
     "metadata": {},
     "output_type": "execute_result"
    }
   ],
   "source": [
    "list(range(10))"
   ]
  },
  {
   "cell_type": "markdown",
   "metadata": {},
   "source": [
    "**So, let’s recap how user-defined classes can support iteration.**\n",
    "\n",
    "1. — Include __getitem__() or __iter__() methods to make your class iterable.\n",
    "\n",
    "2. — Include __next__() method that returns the next item of the container, making it an iterator.\n",
    "\n",
    "3. — When __next__() method reaches end of container it must raise aStopIteration to signal end of iteration.\n",
    "\n",
    "So to make **list** a iterator we do the following:"
   ]
  },
  {
   "cell_type": "code",
   "execution_count": 6,
   "metadata": {},
   "outputs": [
    {
     "ename": "TypeError",
     "evalue": "'list' object is not an iterator",
     "output_type": "error",
     "traceback": [
      "\u001b[0;31m---------------------------------------------------------------------------\u001b[0m",
      "\u001b[0;31mTypeError\u001b[0m                                 Traceback (most recent call last)",
      "\u001b[0;32m<ipython-input-6-b9d20096048c>\u001b[0m in \u001b[0;36m<module>\u001b[0;34m()\u001b[0m\n\u001b[0;32m----> 1\u001b[0;31m \u001b[0mnext\u001b[0m\u001b[0;34m(\u001b[0m\u001b[0;34m[\u001b[0m\u001b[0;36m1\u001b[0m\u001b[0;34m,\u001b[0m\u001b[0;36m2\u001b[0m\u001b[0;34m]\u001b[0m\u001b[0;34m)\u001b[0m\u001b[0;34m\u001b[0m\u001b[0m\n\u001b[0m",
      "\u001b[0;31mTypeError\u001b[0m: 'list' object is not an iterator"
     ]
    }
   ],
   "source": [
    "next([1,2])"
   ]
  },
  {
   "cell_type": "code",
   "execution_count": 7,
   "metadata": {},
   "outputs": [
    {
     "data": {
      "text/plain": [
       "1"
      ]
     },
     "execution_count": 7,
     "metadata": {},
     "output_type": "execute_result"
    }
   ],
   "source": [
    "next(iter([1,2]))"
   ]
  },
  {
   "cell_type": "markdown",
   "metadata": {},
   "source": [
    "## Containers\n",
    "Containers are the objects that **hold data values**. They **support membership tests**, which means you can check **if a value exists** in the container. **Containers are iterables** - **lists, sets, dictionary, tuple and strings are all containers**. "
   ]
  },
  {
   "cell_type": "code",
   "execution_count": 8,
   "metadata": {},
   "outputs": [
    {
     "name": "stdout",
     "output_type": "stream",
     "text": [
      "x\n"
     ]
    }
   ],
   "source": [
    "if \"x\" in ('x', 'y', 'z'):\n",
    "    print('x')"
   ]
  },
  {
   "cell_type": "markdown",
   "metadata": {},
   "source": [
    "## Itertools Module\n",
    "**Itertools** is an built-in Python module that **contains functions to create iterators for efficient looping**. In short, it provides a lot of interesting tools to work with iterators! Some keep providing values for an infinite range, hence they should only be accessed by functions or loops that actually stop calling for more values eventually."
   ]
  },
  {
   "cell_type": "code",
   "execution_count": 9,
   "metadata": {},
   "outputs": [
    {
     "name": "stdout",
     "output_type": "stream",
     "text": [
      "1\n",
      "3\n",
      "5\n",
      "7\n",
      "9\n",
      "11\n"
     ]
    }
   ],
   "source": [
    "from itertools import count\n",
    "sequence = count(start=0, step=1)\n",
    "while(next(sequence) <= 10):\n",
    "    print(next(sequence))\n"
   ]
  },
  {
   "cell_type": "markdown",
   "metadata": {},
   "source": [
    "## Generators\n",
    "The **generator** is the **elegant brother of iterator** that allows you to **write iterators** like the one you saw earlier, but in a much easier syntax where you **do not have to write classes with `__iter__()` and `__next__()` methods.**\n",
    "\n",
    "\n",
    "**Main differences between Generators and Iterators**\n",
    "1. by definition an iterator retrieves successive items from an existing collection\n",
    "2. A generator implements the iterator interface but produces items not necessarily in a collection\n",
    "3. a generator may iterate over a collection, but return the items decorated in some way\n",
    "4. it may also produce items independently of any other data structure(eg Fibonacci generator)"
   ]
  },
  {
   "cell_type": "code",
   "execution_count": 10,
   "metadata": {},
   "outputs": [],
   "source": [
    "def gen_squares(iterable):\n",
    "    for each in iterable:\n",
    "        print (f'Here comes the square of {each}')\n",
    "        yield each*each\n",
    "        print (f'moving on  {each}')"
   ]
  },
  {
   "cell_type": "code",
   "execution_count": 11,
   "metadata": {},
   "outputs": [
    {
     "name": "stdout",
     "output_type": "stream",
     "text": [
      "Here comes the square of 1\n"
     ]
    },
    {
     "data": {
      "text/plain": [
       "1"
      ]
     },
     "execution_count": 11,
     "metadata": {},
     "output_type": "execute_result"
    }
   ],
   "source": [
    "a = [1, 3 ,4]\n",
    "squares = gen_squares(a)\n",
    "next(squares)"
   ]
  },
  {
   "cell_type": "code",
   "execution_count": 12,
   "metadata": {},
   "outputs": [
    {
     "name": "stdout",
     "output_type": "stream",
     "text": [
      "moving on  1\n",
      "Here comes the square of 3\n"
     ]
    },
    {
     "data": {
      "text/plain": [
       "9"
      ]
     },
     "execution_count": 12,
     "metadata": {},
     "output_type": "execute_result"
    }
   ],
   "source": [
    "next(squares)"
   ]
  },
  {
   "cell_type": "code",
   "execution_count": 13,
   "metadata": {},
   "outputs": [
    {
     "name": "stdout",
     "output_type": "stream",
     "text": [
      "moving on  3\n",
      "Here comes the square of 4\n"
     ]
    },
    {
     "data": {
      "text/plain": [
       "16"
      ]
     },
     "execution_count": 13,
     "metadata": {},
     "output_type": "execute_result"
    }
   ],
   "source": [
    "next(squares)"
   ]
  },
  {
   "cell_type": "markdown",
   "metadata": {},
   "source": [
    "**yield** basically **replaces** the **return statement** of a function **but rather provides a result to its caller without destroying local variables**. Thus, in the next iteration, it can work on this local variable value again. **So unlike a normal function that you have seen before, where on each call it starts with new set of variables - a generator will resume the execution where it was left off.**\n",
    "\n",
    "**lazy factory** is a concept behind the generator and the iterator. Which means they are idle until you ask it for a value. Only when asked is when they get to work and produce a single value, after which it turns idle again. This is a good approach to work with lots of data. **If you do not require all the data at once and hence no need to load all the data in the memory, you can use a generator or an iterator which will pass you each piece of data at a time.**"
   ]
  },
  {
   "cell_type": "markdown",
   "metadata": {},
   "source": [
    "## Types of Generators\n",
    "\n",
    "Generators can be of two different types in Python: **generator functions and generator expressions.**\n",
    "\n",
    "A **generator function** is a function where the keyword **yield** appears in the body. \n",
    "\n",
    "The **generator expressions** are the generator **equivalent of a list comprehension**. They can be specially useful for a limited use case. Just like a list comprehension returns a list, a generator expressions will return a generator."
   ]
  },
  {
   "cell_type": "code",
   "execution_count": 14,
   "metadata": {},
   "outputs": [
    {
     "name": "stdout",
     "output_type": "stream",
     "text": [
      "1\n",
      "4\n"
     ]
    }
   ],
   "source": [
    "squares = (x * x for x in [1,2,3,4,5])\n",
    "print(next(squares))\n",
    "print(next(squares))"
   ]
  },
  {
   "cell_type": "markdown",
   "metadata": {},
   "source": [
    "## Comprehensions"
   ]
  },
  {
   "cell_type": "markdown",
   "metadata": {},
   "source": [
    "**List comprehensions** are **used for creating new list from another iterables.**\n",
    "\n",
    "As list comprehension returns list, they consists of brackets containing the expression which needs to be executed for each element along with the for loop to iterate over each element.\n",
    "\n",
    "Let see how List compression is helpful:"
   ]
  },
  {
   "cell_type": "code",
   "execution_count": 15,
   "metadata": {},
   "outputs": [
    {
     "name": "stdout",
     "output_type": "stream",
     "text": [
      "0\n",
      "1\n",
      "2\n",
      "3\n",
      "4\n"
     ]
    }
   ],
   "source": [
    "for i in range(5):\n",
    "    print(i)"
   ]
  },
  {
   "cell_type": "code",
   "execution_count": 16,
   "metadata": {},
   "outputs": [
    {
     "name": "stdout",
     "output_type": "stream",
     "text": [
      "[0, 1, 2, 3, 4]\n"
     ]
    }
   ],
   "source": [
    "# Using list comprehension\n",
    "print([i for i in range(5)])"
   ]
  },
  {
   "cell_type": "markdown",
   "metadata": {},
   "source": [
    "## *args and **kwargs in Python\n",
    "\n",
    "The special syntax `*args` in **function definitions** in python is **used to pass a variable number of arguments to a function**. It is **used to pass a non-keyworded, variable-length argument list.**\n",
    "\n",
    "**The syntax is to use the symbol * to take in a variable number of arguments; by convention, it is often used with the word `args`.**\n",
    "\n",
    "Using the `*`, the variable that we associate with the `*` becomes an **iterable** meaning you can do things like iterate over it, run some higher order functions such as map and filter, etc.\n"
   ]
  },
  {
   "cell_type": "code",
   "execution_count": 17,
   "metadata": {},
   "outputs": [
    {
     "name": "stdout",
     "output_type": "stream",
     "text": [
      "x\n",
      "y\n",
      "z\n"
     ]
    }
   ],
   "source": [
    "def myFun(*argv):  \n",
    "    for arg in argv:  \n",
    "        print (arg) \n",
    "    \n",
    "myFun('x', 'y', 'z')  "
   ]
  },
  {
   "cell_type": "markdown",
   "metadata": {},
   "source": [
    "The special syntax `**kwargs` in function definitions in python is **used to pass a keyworded, variable-length argument list.** We use the name `kwargs` with the **double star.** The reason is because the **double star allows us to pass through keyword arguments (and any number of them).**\n",
    "\n",
    "**A keyword argument is where you provide a name to the variable as you pass it into the function.**\n",
    "\n",
    "One can think of the **kwargs as being a dictionary that maps each keyword to the value that we pass alongside it**. That is why when we iterate over the **kwargs** there doesn’t seem to be any order in which they were printed out."
   ]
  },
  {
   "cell_type": "code",
   "execution_count": 18,
   "metadata": {},
   "outputs": [
    {
     "name": "stdout",
     "output_type": "stream",
     "text": [
      "first == x\n",
      "mid == y\n",
      "last == z\n"
     ]
    }
   ],
   "source": [
    "def myFun(**kwargs):  \n",
    "    for key, value in kwargs.items(): \n",
    "        print (\"%s == %s\" %(key, value)) \n",
    "  \n",
    "\n",
    "myFun(first ='x', mid ='y', last='z') "
   ]
  },
  {
   "cell_type": "markdown",
   "metadata": {},
   "source": [
    "If we use a `*` expression when you call a function, it must come after all the positional parameters, and if we use a `** ` expression it must come right at the end. f a function takes only `*args` and `**kwargs` as its parameters, it **can be called with any set of parameters**. **One or both of args and kwargs can be empty**, so the function will accept any combination of positional and keyword parameters, including no parameters at all. "
   ]
  },
  {
   "cell_type": "markdown",
   "metadata": {},
   "source": [
    "## Decorators\n",
    "Sometimes we may need to **modify several functions in the same way** – for example, we may want to perform a particular action before and after executing each of the functions, or pass in an extra parameter, or convert the output to another format.\n",
    "\n",
    "To solve this problem, we can **write a function which modifies functions**. We call a function like this a **decorator**. Our function will **take a function object as a parameter, and will return a new function object** – we can then assign the new function value to the old function’s name to replace the old function with the new function. It is mostly used to write **logs**."
   ]
  },
  {
   "cell_type": "code",
   "execution_count": 19,
   "metadata": {},
   "outputs": [],
   "source": [
    "# we define a decorator\n",
    "def log(original_function):\n",
    "    def new_function(*args, **kwargs):\n",
    "        with open(\"log.txt\", \"w\") as logfile:\n",
    "            logfile.write(\"Function '%s' called with positional arguments %s and keyword arguments %s.\\n\"\\\n",
    "                          % (original_function.__name__, args, kwargs))\n",
    "\n",
    "        return original_function(*args, **kwargs)\n",
    "\n",
    "    return new_function\n",
    "\n",
    "# here is a function to decorate\n",
    "def my_function(message):\n",
    "    print(message)\n",
    "\n",
    "# and here is how we decorate it\n",
    "my_function = log(my_function)"
   ]
  },
  {
   "cell_type": "markdown",
   "metadata": {},
   "source": [
    "Inside our decorator (the outer function) we define a replacement function and return it. The replacement function (the inner function) writes a log message and then simply calls the original function and returns its value. Here is a **shorthand syntax** for applying **decorators** to functions: we can use the `@`symbol together with the decorator name before the definition of each function that we want to decorate.\n"
   ]
  },
  {
   "cell_type": "code",
   "execution_count": 20,
   "metadata": {},
   "outputs": [],
   "source": [
    "@log\n",
    "def my_function(message):\n",
    "    print(message)"
   ]
  },
  {
   "cell_type": "markdown",
   "metadata": {},
   "source": [
    "`@log` before the function definition **means exactly the same thing** as my_function. "
   ]
  },
  {
   "cell_type": "markdown",
   "metadata": {},
   "source": [
    "## Lambda Function"
   ]
  },
  {
   "cell_type": "markdown",
   "metadata": {},
   "source": [
    "We can use the **lambda keyword to define anonymous**, one-line functions inline in our code. **Lambdas can take parameters** – they are written between the lambda keyword and the colon, without brackets. A lambda function may only contain a single expression, and the result of evaluating this expression is implicitly returned from the function (we don’t use the return keyword):"
   ]
  },
  {
   "cell_type": "code",
   "execution_count": 21,
   "metadata": {},
   "outputs": [],
   "source": [
    "b = lambda x, y: x + y\n",
    "\n",
    "# is the same as\n",
    "\n",
    "def b(x, y):\n",
    "    return x + y"
   ]
  },
  {
   "cell_type": "markdown",
   "metadata": {},
   "source": [
    "## Merging 2 dict with unique elements"
   ]
  },
  {
   "cell_type": "code",
   "execution_count": 22,
   "metadata": {},
   "outputs": [
    {
     "data": {
      "text/plain": [
       "{'a': 1, 'b': 2, 'c': 3}"
      ]
     },
     "execution_count": 22,
     "metadata": {},
     "output_type": "execute_result"
    }
   ],
   "source": [
    "x = {'a': 1, 'b':2}\n",
    "y = {'c': 3, 'b':2}\n",
    "\n",
    "z = {**x , **y}\n",
    "z"
   ]
  },
  {
   "cell_type": "markdown",
   "metadata": {},
   "source": [
    "It keeps **unqiue keys** and works for python 3.5 and above."
   ]
  },
  {
   "cell_type": "markdown",
   "metadata": {},
   "source": [
    "## References:\n",
    "1. https://www.datacamp.com/community/tutorials/python-iterator-tutorial\n",
    "2. https://medium.com/@cunhasb/python-generators-aabcb5834724\n",
    "3. https://python-textbok.readthedocs.io/en/1.0/"
   ]
  },
  {
   "cell_type": "code",
   "execution_count": null,
   "metadata": {},
   "outputs": [],
   "source": []
  }
 ],
 "metadata": {
  "kernelspec": {
   "display_name": "Python 3",
   "language": "python",
   "name": "python3"
  },
  "language_info": {
   "codemirror_mode": {
    "name": "ipython",
    "version": 3
   },
   "file_extension": ".py",
   "mimetype": "text/x-python",
   "name": "python",
   "nbconvert_exporter": "python",
   "pygments_lexer": "ipython3",
   "version": "3.6.5"
  }
 },
 "nbformat": 4,
 "nbformat_minor": 2
}
