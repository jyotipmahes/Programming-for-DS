{
 "cells": [
  {
   "cell_type": "markdown",
   "metadata": {},
   "source": [
    "## Stack: Last-in-first-out Data Structure"
   ]
  },
  {
   "cell_type": "markdown",
   "metadata": {},
   "source": [
    "**Stack** is a **LIFO** data structure. In a LIFO data structure, the **newest element** added to the queue will be **processed first**.\n",
    "\n",
    "Different from the queue, the stack is a LIFO data structure. Typically, the **insert** operation is called **push** in a stack. **Similar** to the **queue**, a **new element is always added at the end of the stack**. However, the delete operation, **pop**, will always remove the **last element** which is **opposite** from the **queue.**"
   ]
  },
  {
   "cell_type": "markdown",
   "metadata": {},
   "source": [
    "![title](https://s3-lc-upload.s3.amazonaws.com/uploads/2018/06/03/screen-shot-2018-06-02-at-203523.png)"
   ]
  },
  {
   "cell_type": "markdown",
   "metadata": {},
   "source": [
    "Mainly the following basic operations are performed in the stack:\n",
    "\n",
    "**Push:** Adds an item in the stack. If the stack is full, then it is said to be an Overflow condition.<br>\n",
    "**Pop:** Removes an item from the stack. The items are popped in the reversed order in which they are pushed. If the stack is empty, then it is said to be an Underflow condition.<br>\n",
    "**Peek or Top:** Returns top element of stack.<br>\n",
    "**isEmpty:** Returns true if stack is empty, else false.\n",
    "\n",
    "\n",
    "### Time Complexities of operations on stack:\n",
    "\n",
    "push(), pop(), isEmpty() and peek() all take **O(1)** time. We do not run any loop in any of these operations."
   ]
  },
  {
   "cell_type": "markdown",
   "metadata": {},
   "source": [
    "### Implementation\n",
    "#### 1. Implementing Stack using python list(Dynamic Array)\n",
    "We implement Stack using python list which is the most easy of implementation. We push the item at the end of the list and also pop from end as shown below:"
   ]
  },
  {
   "cell_type": "code",
   "execution_count": 16,
   "metadata": {},
   "outputs": [],
   "source": [
    "class stack:\n",
    "    def __init__(self):\n",
    "        self.items = []\n",
    "    \n",
    "    def isEmpty(self):\n",
    "        return self.items == []\n",
    "    \n",
    "    def push(self, item):\n",
    "        self.items.append(item)\n",
    "        print(\"{} pushed to stack\".format(item))\n",
    "    \n",
    "    def pop(self):\n",
    "        if self.isEmpty():\n",
    "            return \"Empty\"\n",
    "        else:\n",
    "            x = self.items.pop()\n",
    "            return x\n",
    "        \n",
    "    def peek(self):\n",
    "        if self.isEmpty():\n",
    "            print(\"Empty\")\n",
    "        else:\n",
    "            return self.items[-1]"
   ]
  },
  {
   "cell_type": "code",
   "execution_count": 9,
   "metadata": {},
   "outputs": [],
   "source": [
    "s = stack()"
   ]
  },
  {
   "cell_type": "code",
   "execution_count": 10,
   "metadata": {},
   "outputs": [
    {
     "data": {
      "text/plain": [
       "'Empty'"
      ]
     },
     "execution_count": 10,
     "metadata": {},
     "output_type": "execute_result"
    }
   ],
   "source": [
    "s.pop()"
   ]
  },
  {
   "cell_type": "code",
   "execution_count": 11,
   "metadata": {},
   "outputs": [
    {
     "name": "stdout",
     "output_type": "stream",
     "text": [
      "5 pushed to stack\n"
     ]
    }
   ],
   "source": [
    "s.push(5)"
   ]
  },
  {
   "cell_type": "code",
   "execution_count": 12,
   "metadata": {},
   "outputs": [
    {
     "name": "stdout",
     "output_type": "stream",
     "text": [
      "10 pushed to stack\n"
     ]
    }
   ],
   "source": [
    "s.push(10)"
   ]
  },
  {
   "cell_type": "code",
   "execution_count": 13,
   "metadata": {},
   "outputs": [
    {
     "data": {
      "text/plain": [
       "10"
      ]
     },
     "execution_count": 13,
     "metadata": {},
     "output_type": "execute_result"
    }
   ],
   "source": [
    "s.pop()"
   ]
  },
  {
   "cell_type": "code",
   "execution_count": 14,
   "metadata": {},
   "outputs": [
    {
     "data": {
      "text/plain": [
       "5"
      ]
     },
     "execution_count": 14,
     "metadata": {},
     "output_type": "execute_result"
    }
   ],
   "source": [
    "s.peek()"
   ]
  },
  {
   "cell_type": "code",
   "execution_count": 15,
   "metadata": {},
   "outputs": [
    {
     "data": {
      "text/plain": [
       "False"
      ]
     },
     "execution_count": 15,
     "metadata": {},
     "output_type": "execute_result"
    }
   ],
   "source": [
    "s.isEmpty()"
   ]
  },
  {
   "cell_type": "markdown",
   "metadata": {},
   "source": [
    "#### 2. Implementing Stack using Linked List"
   ]
  },
  {
   "cell_type": "code",
   "execution_count": 19,
   "metadata": {},
   "outputs": [],
   "source": [
    "class linked_list:\n",
    "    def __init__(self, data):\n",
    "        self.item = data\n",
    "        self.next = None\n",
    "\n",
    "\n",
    "class Stack:\n",
    "    def __init__(self):\n",
    "        self.head = None\n",
    "    \n",
    "    def isEmpty(self):\n",
    "        return self.head == None\n",
    "    \n",
    "    def push(self, item):\n",
    "        if self.isEmpty():\n",
    "            self.head = linked_list(item)\n",
    "        else:\n",
    "            temp = linked_list(item)\n",
    "            temp.next = self.head\n",
    "            self.head = temp\n",
    "        print(\"{} pushed to stack\".format(item))\n",
    "    \n",
    "    def pop(self):\n",
    "        if self.isEmpty():\n",
    "            print(\"Empty\")\n",
    "        else:\n",
    "            print(\"{} removed from stack\".format(self.head.item))\n",
    "            temp = self.head.next\n",
    "            self.head = temp\n",
    "    \n",
    "    def peek(self):\n",
    "        if self.isEmpty():\n",
    "            print(\"Empty\")\n",
    "        else:\n",
    "            return self.head.item\n",
    "        "
   ]
  },
  {
   "cell_type": "code",
   "execution_count": 31,
   "metadata": {},
   "outputs": [
    {
     "name": "stdout",
     "output_type": "stream",
     "text": [
      "Empty\n",
      "5 pushed to stack\n",
      "10 pushed to stack\n",
      "10\n",
      "5\n",
      "False\n",
      "5\n",
      "Empty\n"
     ]
    }
   ],
   "source": [
    "s = stack()\n",
    "print(s.pop())\n",
    "s.push(5)\n",
    "s.push(10)\n",
    "print(s.pop())\n",
    "print(s.peek())\n",
    "print(s.isEmpty())\n",
    "print(s.pop())\n",
    "print(s.pop())\n"
   ]
  },
  {
   "cell_type": "markdown",
   "metadata": {},
   "source": [
    "#### 3. Implement Stack using Queues"
   ]
  },
  {
   "cell_type": "markdown",
   "metadata": {},
   "source": [
    "We will need 2 Queues to implement a stack. We will just discuss the pseudo code here. Implementation is not difficult and has been left.\n",
    "\n",
    "**Method 1 (By making push operation costly)**<br>\n",
    "**Steps:**\n",
    "*push*<br>\n",
    "x is the element to be pushed and s is stack. q1 and q2 are Queues\n",
    "1. Enqueue x to q2\n",
    "2. One by one dequeue everything from q1 and enqueue to q2.\n",
    "3. Swap the names of q1 and q2  <br>\n",
    "\n",
    "**Swapping of names is done to avoid one more movement of all elements from q2 to q1.** \n",
    "\n",
    "*pop*<br>\n",
    "  1) Dequeue an item from q1 and return it.\n",
    "\n",
    "\n",
    "**Method 2 (By making pop operation costly)**<br>\n",
    "\n",
    "*push*<br>\n",
    "1. Enqueue x to q1 (assuming size of q1 is unlimited).\n",
    "\n",
    "*pop*<br> \n",
    "1. One by one dequeue everything except the last element from q1 and enqueue to q2.\n",
    "2. Dequeue the last item of q1, the dequeued item is result, store it.\n",
    "3. Swap the names of q1 and q2\n",
    "4. Return the item stored in step 2.\n"
   ]
  },
  {
   "cell_type": "markdown",
   "metadata": {},
   "source": [
    "## Basic Operations in Stack"
   ]
  },
  {
   "cell_type": "markdown",
   "metadata": {},
   "source": [
    "### 1. Sort a stack using a temporary stack"
   ]
  },
  {
   "cell_type": "markdown",
   "metadata": {},
   "source": [
    "**Pseudo Code**\n",
    "1. Create a temporary stack.\n",
    "2. While input stack is NOT empty do this:\n",
    " - Pop an element from input stack call it temp\n",
    " - while temporary stack is NOT empty and top of temporary stack is greater than temp,\n",
    "  - pop from temporary stack and push it to the input stack\n",
    " - push temp in temporary stack\n",
    "3. The sorted numbers are in temporary stack\n",
    "\n",
    "Check out [link](https://www.geeksforgeeks.org/stack-data-structure/) to see it in action.\n"
   ]
  },
  {
   "cell_type": "code",
   "execution_count": 49,
   "metadata": {},
   "outputs": [],
   "source": [
    "class stack:\n",
    "    def __init__(self):\n",
    "        self.items = []\n",
    "    \n",
    "    def isEmpty(self):\n",
    "        return self.items == []\n",
    "    \n",
    "    def push(self, item):\n",
    "        self.items.append(item)\n",
    "    \n",
    "    def pop(self):\n",
    "        if self.isEmpty():\n",
    "            return None\n",
    "        else:\n",
    "            x = self.items.pop()\n",
    "            return x\n",
    "    \n",
    "    def __str__(self):\n",
    "        return \",\".join(list(map(str,self.items)))\n",
    "        \n",
    "    def peek(self):\n",
    "        if self.isEmpty():\n",
    "            return None\n",
    "        else:\n",
    "            return self.items[-1]"
   ]
  },
  {
   "cell_type": "code",
   "execution_count": 79,
   "metadata": {},
   "outputs": [],
   "source": [
    "# Define stacks\n",
    "input = stack()\n",
    "tempStack = stack()"
   ]
  },
  {
   "cell_type": "code",
   "execution_count": 80,
   "metadata": {},
   "outputs": [],
   "source": [
    "input.push(47)\n",
    "input.push(30)\n",
    "input.push(98)\n",
    "input.push(5)"
   ]
  },
  {
   "cell_type": "code",
   "execution_count": 81,
   "metadata": {},
   "outputs": [
    {
     "name": "stdout",
     "output_type": "stream",
     "text": [
      "47,30,98,5\n"
     ]
    }
   ],
   "source": [
    "print(input)"
   ]
  },
  {
   "cell_type": "code",
   "execution_count": 53,
   "metadata": {},
   "outputs": [],
   "source": [
    "# Sorting logic\n",
    "while not input.isEmpty():\n",
    "    temp = input.pop()\n",
    "    while not tempStack.isEmpty() and tempStack.peek()>temp:\n",
    "        input.push(tempStack.pop())\n",
    "    tempStack.push(temp)\n",
    "    "
   ]
  },
  {
   "cell_type": "code",
   "execution_count": 54,
   "metadata": {},
   "outputs": [
    {
     "name": "stdout",
     "output_type": "stream",
     "text": [
      "5,30,47,98\n"
     ]
    }
   ],
   "source": [
    "print(tempStack)"
   ]
  },
  {
   "cell_type": "markdown",
   "metadata": {},
   "source": [
    "### 2 Reverse a stack using recursion\n",
    "\n",
    "We will need two functions. One for reversing and one for inserting. We recursively call the reverse function by first popping the one item at a time and calling insert function at the end."
   ]
  },
  {
   "cell_type": "code",
   "execution_count": 74,
   "metadata": {},
   "outputs": [],
   "source": [
    "def insert(stack, item): \n",
    "    if stack.isEmpty(): \n",
    "        stack.push(item) \n",
    "    else: \n",
    "        temp = stack.pop()\n",
    "        insert(stack, item) \n",
    "        stack.push(temp) \n",
    "        \n",
    "def reverse(stack):\n",
    "    if not stack.isEmpty():\n",
    "        temp = stack.pop()\n",
    "        reverse(stack)\n",
    "        insert(stack,temp)"
   ]
  },
  {
   "cell_type": "code",
   "execution_count": 86,
   "metadata": {},
   "outputs": [],
   "source": [
    "input = stack()\n",
    "input.push(47)\n",
    "input.push(30)\n",
    "input.push(98)\n",
    "input.push(5)"
   ]
  },
  {
   "cell_type": "code",
   "execution_count": 87,
   "metadata": {},
   "outputs": [
    {
     "name": "stdout",
     "output_type": "stream",
     "text": [
      "47,30,98,5\n"
     ]
    }
   ],
   "source": [
    "print(input)"
   ]
  },
  {
   "cell_type": "code",
   "execution_count": 88,
   "metadata": {},
   "outputs": [],
   "source": [
    "reverse(input)"
   ]
  },
  {
   "cell_type": "code",
   "execution_count": 89,
   "metadata": {},
   "outputs": [
    {
     "name": "stdout",
     "output_type": "stream",
     "text": [
      "5,98,30,47\n"
     ]
    }
   ],
   "source": [
    "print(input)"
   ]
  },
  {
   "cell_type": "markdown",
   "metadata": {},
   "source": [
    "### 3. Sort a stack using recursion:"
   ]
  },
  {
   "cell_type": "markdown",
   "metadata": {},
   "source": [
    "We will need two function, one which pop's the given stack till it is empty and call a sorted_insert function which sort the value and insert them to the stack. "
   ]
  },
  {
   "cell_type": "code",
   "execution_count": 92,
   "metadata": {},
   "outputs": [],
   "source": [
    "def sorted_insert(stack, item):\n",
    "    if stack.isEmpty() or item > stack.peek():\n",
    "        stack.push(item)\n",
    "    else:\n",
    "        temp = stack.pop()\n",
    "        sorted_insert(stack, item)\n",
    "        stack.push(temp)\n",
    "        \n",
    "\n",
    "def sorted_recc(stack):\n",
    "    if not stack.isEmpty():\n",
    "        temp = stack.pop()\n",
    "        sorted_recc(stack)\n",
    "        sorted_insert(stack, temp)"
   ]
  },
  {
   "cell_type": "code",
   "execution_count": 93,
   "metadata": {},
   "outputs": [
    {
     "name": "stdout",
     "output_type": "stream",
     "text": [
      "5,98,30,47\n"
     ]
    }
   ],
   "source": [
    "print(input)"
   ]
  },
  {
   "cell_type": "code",
   "execution_count": 94,
   "metadata": {},
   "outputs": [],
   "source": [
    "sorted_recc(input)"
   ]
  },
  {
   "cell_type": "code",
   "execution_count": 95,
   "metadata": {},
   "outputs": [
    {
     "name": "stdout",
     "output_type": "stream",
     "text": [
      "5,30,47,98\n"
     ]
    }
   ],
   "source": [
    "print(input)"
   ]
  },
  {
   "cell_type": "code",
   "execution_count": null,
   "metadata": {},
   "outputs": [],
   "source": []
  }
 ],
 "metadata": {
  "kernelspec": {
   "display_name": "Python 3",
   "language": "python",
   "name": "python3"
  },
  "language_info": {
   "codemirror_mode": {
    "name": "ipython",
    "version": 3
   },
   "file_extension": ".py",
   "mimetype": "text/x-python",
   "name": "python",
   "nbconvert_exporter": "python",
   "pygments_lexer": "ipython3",
   "version": "3.6.5"
  }
 },
 "nbformat": 4,
 "nbformat_minor": 2
}
