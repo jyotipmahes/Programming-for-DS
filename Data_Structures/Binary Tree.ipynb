{
 "cells": [
  {
   "cell_type": "markdown",
   "metadata": {},
   "source": [
    "# Binary Tree"
   ]
  },
  {
   "cell_type": "markdown",
   "metadata": {},
   "source": [
    "A tree whose elements have **at most 2 children** is called a **binary tree.** Unlike Arrays, Linked Lists, Stack and queues, which are linear data structures, trees are hierarchical data structures."
   ]
  },
  {
   "cell_type": "markdown",
   "metadata": {},
   "source": [
    "![title](https://www.geeksforgeeks.org/wp-content/uploads/binary-tree-to-DLL.png)"
   ]
  },
  {
   "cell_type": "markdown",
   "metadata": {},
   "source": [
    "## Properties\n",
    "1. The maximum number of nodes at level ‘l’ of a binary tree is $2^{l-1}$\n",
    "2. Maximum number of nodes in a binary tree of height ‘h’ is $2^{h }– 1$\n",
    "3. In a Binary Tree with N nodes, minimum possible height or minimum number of levels is   Log2(N+1) \n",
    "4. A Binary Tree with L leaves has at least   ⌈ Log2L ⌉ + 1   levels\n",
    "5. In Binary tree where every node has 0 or 2 children, number of leaf nodes is always one more than nodes with two children.\n",
    "\n"
   ]
  },
  {
   "cell_type": "markdown",
   "metadata": {},
   "source": [
    "##  Types of Binary Tree\n",
    "1. **Full Binary Tree:** A Binary Tree is full if every node has 0 or 2 children\n",
    "2. **Complete Binary Tree:** A Binary Tree is complete Binary Tree if all levels are completely filled except possibly the last level and the last level has all keys as left as possible\n",
    "3. **Perfect Binary Tree:** A Binary tree is Perfect Binary Tree in which all internal nodes have two children and all leaves are at the same level\n",
    "4. **Balanced Binary Tree:** A binary tree is balanced if the height of the tree is O(Log n) where n is the number of nodes\n",
    "\n"
   ]
  },
  {
   "cell_type": "markdown",
   "metadata": {},
   "source": [
    "## Basic Operations implemented in a class"
   ]
  },
  {
   "cell_type": "code",
   "execution_count": 3,
   "metadata": {},
   "outputs": [],
   "source": [
    "class BinaryTree:\n",
    "    def __init__(self, root):\n",
    "        self.root = root\n",
    "        self.left = None\n",
    "        self.right = None"
   ]
  },
  {
   "cell_type": "markdown",
   "metadata": {},
   "source": [
    "### Insertions:\n",
    "1. **insertleft**: We will check if left exists or not. If it does exist, we will push left one level down and add the new node here\n",
    "2. **insertright**: Similarly we will insert on right"
   ]
  },
  {
   "cell_type": "markdown",
   "metadata": {},
   "source": [
    "### Traversal Order\n",
    "**BFS(Breadth First Search)**: It is also called level order traversal as we visit all nodes at each level starting from left first and then go down.\n",
    "\n",
    "\n",
    "**DFS(Depth First Search)**:\n",
    "\n",
    "Types of **DFS**\n",
    "\n",
    "The image below clearly explains the 3 types of traversal we can have for a tree\n",
    "![title](https://www.geeksforgeeks.org/wp-content/uploads/Preorder-from-Inorder-and-Postorder-traversals.jpg)\n",
    "\n",
    "**Preorder**: In a preorder traversal, we **visit the root node first**, then recursively do a preorder traversal of the left subtree, followed by a recursive preorder traversal of the right subtree.<br>\n",
    "**inorder**: In an inorder traversal, we recursively do an inorder traversal on the left subtree, visit the root node, and finally do a recursive inorder traversal of the right subtree. <br>\n",
    "**postorder**: In a postorder traversal, we recursively do a postorder traversal of the left subtree and the right subtree followed by a visit to the root node.\n",
    "\n",
    "**BFS vs DFS:** Both has O(n) but extra space required for Level order traversal is likely to be more when tree is more balanced and extra space for Depth First Traversal is likely to be more when tree is less balanced."
   ]
  },
  {
   "cell_type": "code",
   "execution_count": 2,
   "metadata": {},
   "outputs": [],
   "source": [
    "class BinaryTree:\n",
    "    def __init__(self, root):\n",
    "        self.root = root\n",
    "        self.left = None\n",
    "        self.right = None\n",
    "        \n",
    "    def insertleft(self, node):\n",
    "        if self.left is None:\n",
    "            self.left = BinaryTree(node)\n",
    "        else:\n",
    "            temp = BinaryTree(node)\n",
    "            temp.left = self.left\n",
    "            self.left = temp\n",
    "            \n",
    "    def insertright(self, node):\n",
    "        if self.right is None:\n",
    "            self.right = BinaryTree(node)\n",
    "        else:\n",
    "            temp = BinaryTree(node)\n",
    "            temp.right = self.right\n",
    "            self.right = temp\n",
    "            \n",
    "    def getroot(self):\n",
    "        return self.root\n",
    "    \n",
    "    def setroot(self, newval):\n",
    "        self.root = newval\n",
    "        \n",
    "    def preorder_traversal(self):\n",
    "        print(self.root)\n",
    "        if self.left:\n",
    "            self.left.preorder_traversal()\n",
    "        if self.right:\n",
    "            self.right.preorder_traversal()\n",
    "\n",
    "    def inorder_traversal(self):\n",
    "        if self.left:\n",
    "            self.left.preorder_traversal()\n",
    "        print(self.root)\n",
    "        if self.right:\n",
    "            self.right.preorder_traversal()\n",
    "\n",
    "    def postorder_traversal(self):\n",
    "        if self.left:\n",
    "            self.left.preorder_traversal()\n",
    "        if self.right:\n",
    "            self.right.preorder_traversal()\n",
    "        print(self.root)\n",
    "              "
   ]
  },
  {
   "cell_type": "markdown",
   "metadata": {},
   "source": [
    "### Construct Tree from given Inorder and Preorder traversals"
   ]
  },
  {
   "cell_type": "markdown",
   "metadata": {},
   "source": [
    "Let us consider the below traversals:\n",
    "\n",
    "**Inorder sequence**: D B E A F C <br>\n",
    "**Preorder sequence**: A B D E C F\n",
    "\n",
    "1. The left most element in Pre-order sequence is the root of the tree. So, A is the root here.\n",
    "2. Nodes in the left and right to D in in-order appears accordingly in the tree. So we have DBE- A - FC\n",
    "3. Repeating the same steps, B has D on its left and E on right. C has F on its left.\n",
    "\n",
    "With the help of above logic, we will construct our tree given Pre and Inorder sequences of the tree.\n",
    "\n",
    "**Algorithm**\n",
    "1. Take the first element of the pre-order sequence. Build a tree with this value. \n",
    "2. Look for its left and right values in the in-order sequence. Recursively build tree for its left and right values and assign these trees as left and right of present node.\n",
    "\n",
    "Please find the code below:"
   ]
  },
  {
   "cell_type": "code",
   "execution_count": 29,
   "metadata": {},
   "outputs": [],
   "source": [
    "class Binarytree:\n",
    "    def __init__(self, data):\n",
    "        self.node = data\n",
    "        self.left = None\n",
    "        self.right = None\n",
    "    \n",
    "def search(sequence, start, end, value):\n",
    "    for i in range(start, end+1):\n",
    "        if sequence[i] == value:\n",
    "            return i\n",
    "\n",
    "def buildtree(preorder, inorder, start_index, end_index):\n",
    "    global pre_index\n",
    "    if start_index>end_index:\n",
    "        return None\n",
    "    \n",
    "    Node = Binarytree(preorder[pre_index])\n",
    "\n",
    "    pre_index = pre_index+1\n",
    "    \n",
    "    if start_index == end_index:\n",
    "        return Node\n",
    "\n",
    "    in_index = search(inorder, start_index, end_index, Node.node)\n",
    "\n",
    "    Node.left = buildtree(preorder,inorder,start_index, in_index-1) \n",
    "    Node.right = buildtree(preorder, inorder, in_index+1, end_index)\n",
    "\n",
    "    return Node\n",
    "\n",
    "def inorder_traversal(tree):\n",
    "    if tree.left:\n",
    "        inorder_traversal(tree.left)\n",
    "    print(tree.node)\n",
    "    if tree.right:\n",
    "        inorder_traversal(tree.right)\n",
    "\n"
   ]
  },
  {
   "cell_type": "code",
   "execution_count": 30,
   "metadata": {},
   "outputs": [],
   "source": [
    "inOrder = ['D', 'B', 'E', 'A', 'F', 'C'] \n",
    "preOrder = ['A', 'B', 'D', 'E', 'C', 'F'] \n",
    "pre_index = 0\n",
    "root = buildtree(preOrder,inOrder, 0, len(inOrder)-1) \n",
    "  \n"
   ]
  },
  {
   "cell_type": "code",
   "execution_count": 31,
   "metadata": {},
   "outputs": [
    {
     "name": "stdout",
     "output_type": "stream",
     "text": [
      "Inorder traversal of the constructed tree is\n",
      "D\n",
      "B\n",
      "E\n",
      "A\n",
      "F\n",
      "C\n"
     ]
    }
   ],
   "source": [
    "# Let us test the build tree by priting Inorder traversal \n",
    "print(\"Inorder traversal of the constructed tree is\")\n",
    "inorder_traversal(root) "
   ]
  },
  {
   "cell_type": "markdown",
   "metadata": {},
   "source": [
    "We will solve more problems relating to **Binary tree** in another notebook"
   ]
  },
  {
   "cell_type": "code",
   "execution_count": null,
   "metadata": {},
   "outputs": [],
   "source": []
  }
 ],
 "metadata": {
  "kernelspec": {
   "display_name": "Python 3",
   "language": "python",
   "name": "python3"
  },
  "language_info": {
   "codemirror_mode": {
    "name": "ipython",
    "version": 3
   },
   "file_extension": ".py",
   "mimetype": "text/x-python",
   "name": "python",
   "nbconvert_exporter": "python",
   "pygments_lexer": "ipython3",
   "version": "3.6.5"
  }
 },
 "nbformat": 4,
 "nbformat_minor": 2
}
