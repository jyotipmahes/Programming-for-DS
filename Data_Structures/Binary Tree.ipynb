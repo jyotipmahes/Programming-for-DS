{
 "cells": [
  {
   "cell_type": "markdown",
   "metadata": {},
   "source": [
    "# Binary Tree"
   ]
  },
  {
   "cell_type": "markdown",
   "metadata": {},
   "source": [
    "A tree whose elements have **at most 2 children** is called a **binary tree.** Unlike Arrays, Linked Lists, Stack and queues, which are linear data structures, trees are hierarchical data structures."
   ]
  },
  {
   "cell_type": "markdown",
   "metadata": {},
   "source": [
    "![title](https://www.geeksforgeeks.org/wp-content/uploads/binary-tree-to-DLL.png)"
   ]
  },
  {
   "cell_type": "markdown",
   "metadata": {},
   "source": [
    "## Properties\n",
    "1. The maximum number of nodes at level ‘l’ of a binary tree is $2^{l-1}$\n",
    "2. Maximum number of nodes in a binary tree of height ‘h’ is $2^{h }– 1$\n",
    "3. In a Binary Tree with N nodes, minimum possible height or minimum number of levels is   Log2(N+1) \n",
    "4. A Binary Tree with L leaves has at least   ⌈ Log2L ⌉ + 1   levels\n",
    "5. In Binary tree where every node has 0 or 2 children, number of leaf nodes is always one more than nodes with two children.\n",
    "\n"
   ]
  },
  {
   "cell_type": "markdown",
   "metadata": {},
   "source": [
    "##  Types of Binary Tree\n",
    "1. **Full Binary Tree:** A Binary Tree is full if every node has 0 or 2 children\n",
    "2. **Complete Binary Tree:** A Binary Tree is complete Binary Tree if all levels are completely filled except possibly the last level and the last level has all keys as left as possible\n",
    "3. **Perfect Binary Tree:** A Binary tree is Perfect Binary Tree in which all internal nodes have two children and all leaves are at the same level\n",
    "4. **Balanced Binary Tree:** A binary tree is balanced if the height of the tree is O(Log n) where n is the number of nodes\n",
    "\n"
   ]
  },
  {
   "cell_type": "markdown",
   "metadata": {},
   "source": [
    "## Basic Operations implemented in a class"
   ]
  },
  {
   "cell_type": "code",
   "execution_count": 3,
   "metadata": {},
   "outputs": [],
   "source": [
    "class BinaryTree:\n",
    "    def __init__(self, root):\n",
    "        self.root = root\n",
    "        self.left = None\n",
    "        self.right = None"
   ]
  },
  {
   "cell_type": "markdown",
   "metadata": {},
   "source": [
    "### Insertions:\n",
    "1. **insertleft**: We will check if left exists or not. If it does exist, we will push left one level down and add the new node here\n",
    "2. **insertright**: Similarly we will insert on right"
   ]
  },
  {
   "cell_type": "markdown",
   "metadata": {},
   "source": [
    "### Traversal Order\n",
    "**BFS(Breadth First Search)**: It is also called level order traversal as we visit all nodes at each level starting from left first and then go down.\n",
    "\n",
    "\n",
    "**DFS(Depth First Search)**:\n",
    "\n",
    "Types of **DFS**\n",
    "\n",
    "The image below clearly explains the 3 types of traversal we can have for a tree\n",
    "![title](https://www.geeksforgeeks.org/wp-content/uploads/Preorder-from-Inorder-and-Postorder-traversals.jpg)\n",
    "\n",
    "**Preorder**: In a preorder traversal, we **visit the root node first**, then recursively do a preorder traversal of the left subtree, followed by a recursive preorder traversal of the right subtree.<br>\n",
    "**inorder**: In an inorder traversal, we recursively do an inorder traversal on the left subtree, visit the root node, and finally do a recursive inorder traversal of the right subtree. <br>\n",
    "**postorder**: In a postorder traversal, we recursively do a postorder traversal of the left subtree and the right subtree followed by a visit to the root node.\n",
    "\n",
    "**BFS vs DFS:** Both has O(n) but extra space required for Level order traversal is likely to be more when tree is more balanced and extra space for Depth First Traversal is likely to be more when tree is less balanced."
   ]
  },
  {
   "cell_type": "code",
   "execution_count": 2,
   "metadata": {},
   "outputs": [],
   "source": [
    "class BinaryTree:\n",
    "    def __init__(self, root):\n",
    "        self.root = root\n",
    "        self.left = None\n",
    "        self.right = None\n",
    "        \n",
    "    def insertleft(self, node):\n",
    "        if self.left is None:\n",
    "            self.left = BinaryTree(node)\n",
    "        else:\n",
    "            temp = BinaryTree(node)\n",
    "            temp.left = self.left\n",
    "            self.left = temp\n",
    "            \n",
    "    def insertright(self, node):\n",
    "        if self.right is None:\n",
    "            self.right = BinaryTree(node)\n",
    "        else:\n",
    "            temp = BinaryTree(node)\n",
    "            temp.right = self.right\n",
    "            self.right = temp\n",
    "            \n",
    "    def getroot(self):\n",
    "        return self.root\n",
    "    \n",
    "    def setroot(self, newval):\n",
    "        self.root = newval\n",
    "        \n",
    "    def preorder_traversal(self):\n",
    "        print(self.root)\n",
    "        if self.left:\n",
    "            self.left.preorder_traversal()\n",
    "        if self.right:\n",
    "            self.right.preorder_traversal()\n",
    "\n",
    "    def inorder_traversal(self):\n",
    "        if self.left:\n",
    "            self.left.preorder_traversal()\n",
    "        print(self.root)\n",
    "        if self.right:\n",
    "            self.right.preorder_traversal()\n",
    "\n",
    "    def postorder_traversal(self):\n",
    "        if self.left:\n",
    "            self.left.preorder_traversal()\n",
    "        if self.right:\n",
    "            self.right.preorder_traversal()\n",
    "        print(self.root)\n",
    "              "
   ]
  },
  {
   "cell_type": "markdown",
   "metadata": {},
   "source": [
    "### Construct Tree from given Inorder and Preorder traversals"
   ]
  },
  {
   "cell_type": "markdown",
   "metadata": {},
   "source": [
    "Let us consider the below traversals:\n",
    "\n",
    "**Inorder sequence**: D B E A F C <br>\n",
    "**Preorder sequence**: A B D E C F\n",
    "\n",
    "1. The left most element in Pre-order sequence is the root of the tree. So, A is the root here.\n",
    "2. Nodes in the left and right to D in in-order appears accordingly in the tree. So we have DBE- A - FC\n",
    "3. Repeating the same steps, B has D on its left and E on right. C has F on its left.\n",
    "\n",
    "With the help of above logic, we will construct our tree given Pre and Inorder sequences of the tree.\n",
    "\n",
    "**Algorithm**\n",
    "1. Take the first element of the pre-order sequence. Build a tree with this value. \n",
    "2. Look for its left and right values in the in-order sequence. Recursively build tree for its left and right values and assign these trees as left and right of present node.\n",
    "\n",
    "Please find the code below:"
   ]
  },
  {
   "cell_type": "code",
   "execution_count": 29,
   "metadata": {},
   "outputs": [],
   "source": [
    "class Binarytree:\n",
    "    def __init__(self, data):\n",
    "        self.node = data\n",
    "        self.left = None\n",
    "        self.right = None\n",
    "    \n",
    "def search(sequence, start, end, value):\n",
    "    for i in range(start, end+1):\n",
    "        if sequence[i] == value:\n",
    "            return i\n",
    "\n",
    "def buildtree(preorder, inorder, start_index, end_index):\n",
    "    global pre_index\n",
    "    if start_index>end_index:\n",
    "        return None\n",
    "    \n",
    "    Node = Binarytree(preorder[pre_index])\n",
    "\n",
    "    pre_index = pre_index+1\n",
    "    \n",
    "    if start_index == end_index:\n",
    "        return Node\n",
    "\n",
    "    in_index = search(inorder, start_index, end_index, Node.node)\n",
    "\n",
    "    Node.left = buildtree(preorder,inorder,start_index, in_index-1) \n",
    "    Node.right = buildtree(preorder, inorder, in_index+1, end_index)\n",
    "\n",
    "    return Node\n",
    "\n",
    "def inorder_traversal(tree):\n",
    "    if tree.left:\n",
    "        inorder_traversal(tree.left)\n",
    "    print(tree.node)\n",
    "    if tree.right:\n",
    "        inorder_traversal(tree.right)\n",
    "\n"
   ]
  },
  {
   "cell_type": "code",
   "execution_count": 30,
   "metadata": {},
   "outputs": [],
   "source": [
    "inOrder = ['D', 'B', 'E', 'A', 'F', 'C'] \n",
    "preOrder = ['A', 'B', 'D', 'E', 'C', 'F'] \n",
    "pre_index = 0\n",
    "root = buildtree(preOrder,inOrder, 0, len(inOrder)-1) \n",
    "  \n"
   ]
  },
  {
   "cell_type": "code",
   "execution_count": 31,
   "metadata": {},
   "outputs": [
    {
     "name": "stdout",
     "output_type": "stream",
     "text": [
      "Inorder traversal of the constructed tree is\n",
      "D\n",
      "B\n",
      "E\n",
      "A\n",
      "F\n",
      "C\n"
     ]
    }
   ],
   "source": [
    "# Let us test the build tree by priting Inorder traversal \n",
    "print(\"Inorder traversal of the constructed tree is\")\n",
    "inorder_traversal(root) "
   ]
  },
  {
   "cell_type": "markdown",
   "metadata": {},
   "source": [
    "We will solve more problems relating to **Binary tree** in another notebook"
   ]
  },
  {
   "cell_type": "markdown",
   "metadata": {},
   "source": [
    "# Binary Search Tree"
   ]
  },
  {
   "cell_type": "markdown",
   "metadata": {},
   "source": [
    "**Binary Search Tree** is a node-based binary tree data structure which has the **following properties:**\n",
    "\n",
    "1. The left subtree of a node contains only nodes with keys lesser than the node’s key.\n",
    "2. The right subtree of a node contains only nodes with keys greater than the node’s key.\n",
    "3. The left and right subtree each must also be a binary search tree.\n",
    "![title](https://cdncontribute.geeksforgeeks.org/wp-content/uploads/BSTSearch.png)"
   ]
  },
  {
   "cell_type": "markdown",
   "metadata": {},
   "source": [
    "The above properties of **Binary Search Tree** provide an ordering among keys so that the **operations like search, minimum and maximum can be done fast**. If there is no ordering, then we may have to compare every key to search a given key."
   ]
  },
  {
   "cell_type": "markdown",
   "metadata": {},
   "source": [
    "## Basic Operations:\n",
    "### Search\n",
    "To search a given key in Binary Search Tree, we first compare it with root, if the key is present at root, we return root. If key is greater than root’s key, we recur for right subtree of root node. Otherwise we recur for left subtree."
   ]
  },
  {
   "cell_type": "code",
   "execution_count": 32,
   "metadata": {},
   "outputs": [],
   "source": [
    "def search(root,key): \n",
    "      \n",
    "    if root is None or root.val == key: \n",
    "        return root \n",
    "  \n",
    "    if root.val < key: \n",
    "        return search(root.right,key) \n",
    "     \n",
    "    return search(root.left,key) "
   ]
  },
  {
   "cell_type": "markdown",
   "metadata": {},
   "source": [
    "### Insertion\n",
    "A new key is **always inserted at leaf**. We start searching a key from root till we hit a leaf node. Once a leaf node is found, the new node is added as a child of the leaf node."
   ]
  },
  {
   "cell_type": "code",
   "execution_count": 53,
   "metadata": {},
   "outputs": [],
   "source": [
    "class BinaryTree:\n",
    "    def __init__(self, data):\n",
    "        self.node = data\n",
    "        self.left = None\n",
    "        self.right = None\n",
    "\n",
    "def bstInsert(root, key):\n",
    "    Node = BinaryTree(key)\n",
    "    if root == None:\n",
    "        root = Node\n",
    "    \n",
    "    else:\n",
    "        if root.node > key:\n",
    "            if root.left == None:\n",
    "                root.left = Node\n",
    "            else:\n",
    "                bstInsert(root.left, key)\n",
    "        else:\n",
    "            if root.right == None:\n",
    "                root.right = Node\n",
    "            else:\n",
    "                bstInsert(root.right, key)\n",
    "    "
   ]
  },
  {
   "cell_type": "code",
   "execution_count": 54,
   "metadata": {},
   "outputs": [],
   "source": [
    "r = BinaryTree(50) \n",
    "bstInsert(r,30) \n",
    "bstInsert(r,20) \n",
    "bstInsert(r,40) \n",
    "bstInsert(r,70) \n",
    "bstInsert(r,60) \n",
    "bstInsert(r,80) "
   ]
  },
  {
   "cell_type": "code",
   "execution_count": 55,
   "metadata": {},
   "outputs": [
    {
     "name": "stdout",
     "output_type": "stream",
     "text": [
      "20\n",
      "30\n",
      "40\n",
      "50\n",
      "60\n",
      "70\n",
      "80\n"
     ]
    }
   ],
   "source": [
    "inorder_traversal(r)"
   ]
  },
  {
   "cell_type": "markdown",
   "metadata": {},
   "source": [
    "**Inorder traversal of BST always produces sorted output.**"
   ]
  },
  {
   "cell_type": "markdown",
   "metadata": {},
   "source": [
    "### Deletion\n",
    "1. **Node to be deleted is leaf**: Simply remove from the tree\n",
    "2. **Node to be deleted has only one child:** Copy the child to the node and delete the child\n",
    "3. **Node to be deleted has two children:** Find inorder successor of the node. Copy contents of the inorder successor to the node and delete the inorder successor. Note that inorder predecessor can also be used. The important thing to note is, inorder successor is needed only when right child is not empty. "
   ]
  },
  {
   "cell_type": "code",
   "execution_count": 70,
   "metadata": {},
   "outputs": [],
   "source": [
    "def minVal(tree):\n",
    "    current = tree\n",
    "    while(current.left is not None):\n",
    "        current = current.left\n",
    "    return current\n",
    "\n",
    "def delete_node(tree, key):\n",
    "    if tree is None:\n",
    "        return tree\n",
    "    \n",
    "    if key < tree.node:\n",
    "        tree.left = delete_node(tree.left, key)\n",
    "    \n",
    "    elif key > tree.node:\n",
    "        tree.right = delete_node(tree.right, key)\n",
    "    \n",
    "    else:\n",
    "        if tree.left is None:\n",
    "            temp = tree.right\n",
    "            tree = None\n",
    "            return temp\n",
    "        elif tree.right is None:\n",
    "            temp = tree.left\n",
    "            tree = None\n",
    "            return temp\n",
    "        else:\n",
    "            succesor = minVal(tree.right)\n",
    "            tree.node = succesor.node\n",
    "            tree.right = delete_node(tree.right, succesor.node) \n",
    "        \n",
    "    return tree\n",
    "            "
   ]
  },
  {
   "cell_type": "code",
   "execution_count": 71,
   "metadata": {},
   "outputs": [],
   "source": [
    "r = BinaryTree(50) \n",
    "bstInsert(r,30) \n",
    "bstInsert(r,20) \n",
    "bstInsert(r,40) \n",
    "bstInsert(r,70) \n",
    "bstInsert(r,60) \n",
    "bstInsert(r,80) \n",
    "  "
   ]
  },
  {
   "cell_type": "code",
   "execution_count": 72,
   "metadata": {},
   "outputs": [
    {
     "name": "stdout",
     "output_type": "stream",
     "text": [
      "20\n",
      "30\n",
      "40\n",
      "50\n",
      "60\n",
      "70\n",
      "80\n"
     ]
    }
   ],
   "source": [
    "inorder_traversal(r)"
   ]
  },
  {
   "cell_type": "code",
   "execution_count": 73,
   "metadata": {},
   "outputs": [],
   "source": [
    "r = delete_node(r, 30)"
   ]
  },
  {
   "cell_type": "code",
   "execution_count": 74,
   "metadata": {},
   "outputs": [
    {
     "name": "stdout",
     "output_type": "stream",
     "text": [
      "20\n",
      "40\n",
      "50\n",
      "60\n",
      "70\n",
      "80\n"
     ]
    }
   ],
   "source": [
    "inorder_traversal(r)"
   ]
  },
  {
   "cell_type": "markdown",
   "metadata": {},
   "source": [
    "**Advantages of BST over Hash Table**\n",
    "Hash Table supports following operations in Θ(1) time.\n",
    "1. Search\n",
    "2. Insert\n",
    "3. Delete\n",
    "\n",
    "The time complexity of above operations in a self-balancing Binary Search Tree (BST) (like Red-Black Tree, AVL Tree, Splay Tree, etc) is O(Logn).\n",
    "So Hash Table seems to beating BST in all common operations. When should we prefer BST over Hash Tables, what are advantages. \n",
    "\n",
    "**Following are some important points in favor of BSTs**\n",
    "\n",
    "1. We can get all keys in sorted order by just doing Inorder Traversal of BST\n",
    "2.Doing order statistics, finding closest lower and greater elements, doing  range queries are easy to do with BSTs. \n",
    "3. BSTs are easy to implement compared to hashing, we can easily implement our own customized BST. \n",
    "4. With Self-Balancing BSTs, all operations are guaranteed to work in O(Logn) time. But with Hashing, Θ(1) is average time and some particular operations may be costly, especially when table resizing happens.\n"
   ]
  },
  {
   "cell_type": "code",
   "execution_count": null,
   "metadata": {},
   "outputs": [],
   "source": []
  }
 ],
 "metadata": {
  "kernelspec": {
   "display_name": "Python 3",
   "language": "python",
   "name": "python3"
  },
  "language_info": {
   "codemirror_mode": {
    "name": "ipython",
    "version": 3
   },
   "file_extension": ".py",
   "mimetype": "text/x-python",
   "name": "python",
   "nbconvert_exporter": "python",
   "pygments_lexer": "ipython3",
   "version": "3.6.5"
  }
 },
 "nbformat": 4,
 "nbformat_minor": 2
}
