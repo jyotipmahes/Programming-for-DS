{
 "cells": [
  {
   "cell_type": "markdown",
   "metadata": {},
   "source": [
    "# Linked List Basics"
   ]
  },
  {
   "cell_type": "markdown",
   "metadata": {},
   "source": [
    "A **linked list** is a **linear data structure**, in which the elements are **not stored at contiguous memory locations**. The elements in a linked list are linked using pointers as shown in the below image"
   ]
  },
  {
   "cell_type": "markdown",
   "metadata": {},
   "source": [
    "![title](https://www.geeksforgeeks.org/wp-content/uploads/gq/2013/03/Linkedlist.png)"
   ]
  },
  {
   "cell_type": "markdown",
   "metadata": {},
   "source": [
    "As you can see, **each element** in the linked list is actually a **separate object** while all the objects are **linked** together **by the reference field** in each element."
   ]
  },
  {
   "cell_type": "markdown",
   "metadata": {},
   "source": [
    "**Why Linked List over Array?**\n",
    "1. Dynamic size\n",
    "2. Ease of insertion/deletion\n",
    "\n",
    "**Drawbacks:**\n",
    "1. Random access is not allowed. We have to access elements sequentially starting from the first node.\n",
    "2. Extra memory space for a pointer is required with each element of the list.\n",
    "3. Not cache friendly. Since array elements are contiguous locations, there is locality of reference which is not there in case of linked lists."
   ]
  },
  {
   "cell_type": "markdown",
   "metadata": {},
   "source": [
    "## Types of Linked List\n",
    "1. Singly Linked List\n",
    "2. Doubly Linked List\n",
    "3. Circular Linked List"
   ]
  },
  {
   "cell_type": "markdown",
   "metadata": {},
   "source": [
    "## 1. Singly Linked List\n",
    "It has links only one direction. The pointer only points to next element. Here is the basic structure of a Singly Linked List:\n",
    "1. We need a **node class** which **stores data and reference to next element**.\n",
    "2. A **linked List class** which tracks the **head element** of the linked List\n",
    "\n",
    "A linked list is a collection of nodes and tracks the head node."
   ]
  },
  {
   "cell_type": "code",
   "execution_count": 1,
   "metadata": {},
   "outputs": [],
   "source": [
    "class Node: \n",
    "    \n",
    "    def __init__(self, data): \n",
    "        self.data = data  \n",
    "        self.next = None    \n",
    "                          \n",
    "    \n",
    "class LinkedList: \n",
    "    \n",
    "    def __init__(self):  \n",
    "        self.head = None"
   ]
  },
  {
   "cell_type": "code",
   "execution_count": 2,
   "metadata": {},
   "outputs": [],
   "source": [
    "# Creating a Linked List\n",
    "llist = LinkedList() # List initialization\n",
    "llist.head  = Node(1)  # Assigning Node(1) as the head\n",
    "second = Node(2)  # Creating more nodes\n",
    "third  = Node(3) # Creating more nodes\n",
    "\n",
    "# Linking to the list\n",
    "llist.head.next = second\n",
    "second.next = third    "
   ]
  },
  {
   "cell_type": "code",
   "execution_count": 3,
   "metadata": {},
   "outputs": [
    {
     "name": "stdout",
     "output_type": "stream",
     "text": [
      "1\n",
      "2\n",
      "3\n"
     ]
    }
   ],
   "source": [
    "print(llist.head.data)\n",
    "print(llist.head.next.data)\n",
    "print(llist.head.next.next.data)"
   ]
  },
  {
   "cell_type": "markdown",
   "metadata": {},
   "source": [
    "### List traversal\n",
    "This is done to see all data points stored in the Linked List"
   ]
  },
  {
   "cell_type": "code",
   "execution_count": 4,
   "metadata": {},
   "outputs": [],
   "source": [
    "def list_traversal(llist):\n",
    "    temp = llist.head\n",
    "    while temp:\n",
    "        print(temp.data)\n",
    "        temp = temp.next"
   ]
  },
  {
   "cell_type": "code",
   "execution_count": 5,
   "metadata": {},
   "outputs": [
    {
     "name": "stdout",
     "output_type": "stream",
     "text": [
      "1\n",
      "2\n",
      "3\n"
     ]
    }
   ],
   "source": [
    "list_traversal(llist)"
   ]
  },
  {
   "cell_type": "markdown",
   "metadata": {},
   "source": [
    "### Inserting Node to a Linked List\n",
    "**1. At the front of the linked list**:\n",
    "In this, we need to make the node to be inserted as a new head and make current head as the next element of the new node which needs to be inserted.<br>\n",
    "**Time complexity of push() is O(1) as it does constant amount of work.**\n"
   ]
  },
  {
   "cell_type": "code",
   "execution_count": 6,
   "metadata": {},
   "outputs": [],
   "source": [
    "def push(llist, new_data): \n",
    "    new_node = Node(new_data) \n",
    "    new_node.next = llist.head \n",
    "    llist.head = new_node "
   ]
  },
  {
   "cell_type": "markdown",
   "metadata": {},
   "source": [
    "**2. After a given node**: If we already know the details of the node after which we want to add, the logic remains same as above. Instead of llist.head, we make use of the node after which we want to add. It is also of order O(1). Else, we need to traverse the list till we reach the node and repeat above steps."
   ]
  },
  {
   "cell_type": "markdown",
   "metadata": {},
   "source": [
    "**3. At the end of the linked list**: We need to traverse the list till we reach the end and add the node to last node of linked List. **It is of order O(n) as we need to traverse the llist.**"
   ]
  },
  {
   "cell_type": "code",
   "execution_count": 7,
   "metadata": {},
   "outputs": [],
   "source": [
    "def append(llist, new_data): \n",
    "    new_node = Node(new_data) \n",
    "    \n",
    "    # If no element in list\n",
    "    if llist.head is None: \n",
    "        llist.head = new_node \n",
    "        return\n",
    "    \n",
    "    # Traverse the list\n",
    "    last = llist.head \n",
    "    while (last.next): \n",
    "        last = last.next\n",
    "        \n",
    "    last.next =  new_node"
   ]
  },
  {
   "cell_type": "markdown",
   "metadata": {},
   "source": [
    "### Deleting a Node\n",
    "Note that **deleting** the **first node** is very **straight forward**. We just need to **change** the **head to next node** following head. But **for any other position**, it gets tricky. We **need to know the node just before the node** we want to delete to be able to complete the deletion process. **Once we know that**, we just of to **change the next pointer** and **by pass** the **node** we want **to delete**. So, as we **traverse the llist** in search of our **node to be deleted**, we also **keep track of previous node** as well and this helps us complete the deletion process. "
   ]
  },
  {
   "cell_type": "code",
   "execution_count": 8,
   "metadata": {},
   "outputs": [],
   "source": [
    "def deleteNode(llist, key): \n",
    "\n",
    "    # Store head node \n",
    "    temp = llist.head \n",
    "\n",
    "    # If head node itself holds the key to be deleted \n",
    "    if (temp is not None): \n",
    "        if (temp.data == key): \n",
    "            llist.head = temp.next\n",
    "            temp = None\n",
    "            return\n",
    "\n",
    "    # Search for the key to be deleted, keep track of the \n",
    "    # previous node as we need to change 'prev.next' \n",
    "    while(temp is not None): \n",
    "        if temp.data == key: \n",
    "            break \n",
    "        prev = temp \n",
    "        temp = temp.next \n",
    "\n",
    "    # if key was not present in linked list \n",
    "    if(temp == None): \n",
    "        return \n",
    "\n",
    "    # Unlink the node from linked list \n",
    "    prev.next = temp.next \n",
    "\n",
    "    temp = None"
   ]
  },
  {
   "cell_type": "code",
   "execution_count": 9,
   "metadata": {},
   "outputs": [
    {
     "name": "stdout",
     "output_type": "stream",
     "text": [
      "1\n",
      "2\n",
      "3\n"
     ]
    }
   ],
   "source": [
    "list_traversal(llist)"
   ]
  },
  {
   "cell_type": "code",
   "execution_count": 10,
   "metadata": {},
   "outputs": [],
   "source": [
    "deleteNode(llist, 2)"
   ]
  },
  {
   "cell_type": "code",
   "execution_count": 11,
   "metadata": {},
   "outputs": [
    {
     "name": "stdout",
     "output_type": "stream",
     "text": [
      "1\n",
      "3\n"
     ]
    }
   ],
   "source": [
    "list_traversal(llist)"
   ]
  },
  {
   "cell_type": "markdown",
   "metadata": {},
   "source": [
    "### Program for n’th node from the end of a Linked List\n",
    "\n",
    "We will just discuss the pseudo code for this as it is easy to implement once we know the logic.\n",
    "\n",
    "**Method 1 (Use length of linked list)**\n",
    "1. Calculate the length of Linked List. Let the length be len.\n",
    "2. Print the (len – n + 1)th node from the begining of the Linked List.\n",
    "Time Complexity: O(n) where n is the length of linked list.\n",
    "\n",
    "**Method 2 (Use two pointers)**<br>\n",
    "\n",
    "Maintain two pointers – reference pointer and main pointer. Initialize both reference and main pointers to head. First move reference pointer to n nodes from head. Now move both pointers one by one until reference pointer reaches end. Now main pointer will point to nth node from the end. Return main pointer."
   ]
  },
  {
   "cell_type": "markdown",
   "metadata": {},
   "source": [
    "### Find the middle of a given linked list\n",
    "**Method 1:**\n",
    "\n",
    "Traverse the whole linked list and count the no. of nodes. Now traverse the list again till count/2 and return the node at count/2.\n",
    "\n",
    "**Method 2:**\n",
    "\n",
    "Traverse linked list using two pointers. Move one pointer by one and other pointer by two. When the fast pointer reaches end slow pointer will reach middle of the linked list.\n",
    "\n",
    "**Method 3:**\n",
    "\n",
    "Initialize mid element as head and initialize a counter as 0. Traverse the list from head, while traversing increment the counter and change mid to mid->next whenever the counter is odd. So the mid will move only half of the total length of the list.\n",
    "Thanks to Narendra Kangralkar for suggesting this method.\n",
    "\n"
   ]
  },
  {
   "cell_type": "markdown",
   "metadata": {},
   "source": [
    "### Reverse a linked list\n",
    "**Pseudo Code**:<br>\n",
    "1. We would need three pointer for the implementation. `Prev`, `Current` and `Next`.\n",
    "2. Assign `prev` as **None** and `current` as **head**\n",
    "3. Run a while loop till we reach the end of llist:\n",
    " - Assign `next` as `current.next` value\n",
    " - Assign `prev` value to `current.next`\n",
    " - Assign `current` value to `prev`\n",
    " - Move `current` pointer to `next`\n",
    "4. At the end of loop, assign `prev` to `llist.head`\n",
    "\n",
    "Check following [link](https://www.geeksforgeeks.org/reverse-a-linked-list/) for better understanding"
   ]
  },
  {
   "cell_type": "markdown",
   "metadata": {},
   "source": [
    "![title](https://www.geeksforgeeks.org/wp-content/uploads/RGIF2.gif)"
   ]
  },
  {
   "cell_type": "code",
   "execution_count": 12,
   "metadata": {},
   "outputs": [],
   "source": [
    "def reverse(llist): \n",
    "    prev = None\n",
    "    current = llist.head \n",
    "    while(current is not None): \n",
    "        next = current.next\n",
    "        current.next = prev \n",
    "        prev = current \n",
    "        current = next\n",
    "    llist.head = prev "
   ]
  },
  {
   "cell_type": "markdown",
   "metadata": {},
   "source": [
    "#### Recursive Method\n",
    "1. Divide the list in two parts - first node and rest of the linked list.\n",
    "2. Call reverse for the rest of the linked list.\n",
    "3. Link rest to first.\n",
    "4. Fix head pointer\n",
    "\n",
    "A better implementation explanation is [here](https://www.geeksforgeeks.org/iteratively-reverse-a-linked-list-using-only-2-pointers/) "
   ]
  },
  {
   "cell_type": "code",
   "execution_count": 13,
   "metadata": {},
   "outputs": [],
   "source": [
    "def reverseUtil(llist, curr, prev): \n",
    "\n",
    "    # If last node mark it head \n",
    "    if curr.next is None : \n",
    "        llist.head = curr  \n",
    "\n",
    "        # Update next to prev node \n",
    "        curr.next = prev \n",
    "        return \n",
    "\n",
    "    # Save curr.next node for recursive call \n",
    "    next = curr.next\n",
    "\n",
    "    # And update next  \n",
    "    curr.next = prev \n",
    "\n",
    "    reverseUtil(llist, next, curr)  \n",
    "\n",
    "\n",
    "def reverse(llist): \n",
    "    if llist.head is None: \n",
    "        return \n",
    "    curr = llist.head\n",
    "    prev = None\n",
    "    reverseUtil(llist, curr, prev) "
   ]
  },
  {
   "cell_type": "code",
   "execution_count": 14,
   "metadata": {},
   "outputs": [
    {
     "name": "stdout",
     "output_type": "stream",
     "text": [
      "1\n",
      "3\n"
     ]
    }
   ],
   "source": [
    "list_traversal(llist)"
   ]
  },
  {
   "cell_type": "code",
   "execution_count": 15,
   "metadata": {},
   "outputs": [],
   "source": [
    "reverse(llist)"
   ]
  },
  {
   "cell_type": "code",
   "execution_count": 16,
   "metadata": {},
   "outputs": [
    {
     "name": "stdout",
     "output_type": "stream",
     "text": [
      "3\n",
      "1\n"
     ]
    }
   ],
   "source": [
    "list_traversal(llist)"
   ]
  },
  {
   "cell_type": "markdown",
   "metadata": {},
   "source": [
    "**I will explore Doubly Linked List and Circular Linked List in a different notebook**"
   ]
  },
  {
   "cell_type": "code",
   "execution_count": null,
   "metadata": {},
   "outputs": [],
   "source": []
  }
 ],
 "metadata": {
  "kernelspec": {
   "display_name": "Python 3",
   "language": "python",
   "name": "python3"
  },
  "language_info": {
   "codemirror_mode": {
    "name": "ipython",
    "version": 3
   },
   "file_extension": ".py",
   "mimetype": "text/x-python",
   "name": "python",
   "nbconvert_exporter": "python",
   "pygments_lexer": "ipython3",
   "version": "3.6.5"
  }
 },
 "nbformat": 4,
 "nbformat_minor": 2
}
