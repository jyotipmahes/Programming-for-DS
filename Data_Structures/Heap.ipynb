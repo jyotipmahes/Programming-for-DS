{
 "cells": [
  {
   "cell_type": "markdown",
   "metadata": {},
   "source": [
    "# Heap"
   ]
  },
  {
   "cell_type": "markdown",
   "metadata": {},
   "source": [
    "A Heap is **a special Tree-based data structure** in which the **tree is a complete binary tree**. Generally, Heaps can be of two types:\n",
    "\n",
    "**Max-Heap**: In a Max-Heap the key present at the **root node must be greatest** among the keys present at all of it’s children. The same property must be **recursively true for all sub-trees** in that Binary Tree.<br>\n",
    "\n",
    "**Min-Heap**: In a Min-Heap the key present at the **root node must be minimum** among the keys present at all of it’s children. The same property must be recursively true for all sub-trees in that Binary Tree.\n"
   ]
  },
  {
   "cell_type": "markdown",
   "metadata": {},
   "source": [
    "![title](https://www.geeksforgeeks.org/wp-content/uploads/MinHeapAndMaxHeap.png)"
   ]
  },
  {
   "cell_type": "markdown",
   "metadata": {},
   "source": [
    "## Binary Heap\n",
    "\n",
    "A Binary Heap is a Binary Tree with following properties.\n",
    "1. It’s a **complete tree** (All levels are completely filled except possibly the last level and the last level has all **keys as left as possible**). This property of Binary Heap makes them **suitable to be stored in an array**.\n"
   ]
  },
  {
   "cell_type": "markdown",
   "metadata": {},
   "source": [
    "## How is Binary Heap represented?\n",
    "\n",
    "A Binary Heap is a Complete Binary Tree. A binary heap is **typically represented as an array**.\n",
    "\n",
    "The root element will be at **Arr[0].**\n",
    "Below shows indexes of other nodes for the **ith** node, i.e., **Arr[i]**:\n",
    "\n",
    "Arr[**(i-1)/2**]\tReturns the **parent** node\n",
    "\n",
    "Arr[**(2*i)+1**]\tReturns the **left child** node\n",
    "\n",
    "Arr[**(2*i)+2**]\tReturns the **right child** node\n",
    "\n",
    "**The traversal method use to achieve Array representation is Level Order(BFS)**"
   ]
  },
  {
   "cell_type": "markdown",
   "metadata": {},
   "source": [
    "## Applications of Heaps:\n",
    "\n",
    "1. **Heap Sort:** Heap Sort uses Binary Heap to sort an array in O(nLogn) time.\n",
    "\n",
    "2. **Priority Queue:** Priority queues can be efficiently implemented using Binary Heap because it supports insert(), delete() and extractmax(), decreaseKey() operations in O(logn) time.\n",
    "\n",
    "3. **Graph Algorithms:** The priority queues are especially used in Graph Algorithms like **Dijkstra’s Shortest Path and Prim’s Minimum Spanning Tree.**"
   ]
  },
  {
   "cell_type": "markdown",
   "metadata": {},
   "source": [
    "## Implementation of Min Heap"
   ]
  },
  {
   "cell_type": "markdown",
   "metadata": {},
   "source": [
    "**Operations on Min Heap:**<br>\n",
    "1. **insert()**: It adds a item to the end of the heap.\n",
    "\n",
    "2. **percUP()**: Inserting item at the end of heap destroys the order property. This functions helps restore it by swapping the values to parent.\n",
    "\n",
    "3. **delMin()**: Removes the smallest number and rearranges the heap\n",
    "\n",
    "4. **percDown():** Allows us to restore heap order property\n",
    "\n",
    "5. **buildHeap()**:Creates the heap\n",
    "\n",
    "6. **minChild()**: Finds min child of any node to help precDown()\n",
    "\n"
   ]
  },
  {
   "cell_type": "code",
   "execution_count": 3,
   "metadata": {},
   "outputs": [],
   "source": [
    "class BinHeap:\n",
    "    def __init__(self):\n",
    "        self.heapList = [0]\n",
    "        self.currentSize = 0\n",
    "\n",
    "\n",
    "    def percUp(self,i):\n",
    "        while i // 2 > 0:\n",
    "            # Swap values to move min value up\n",
    "          if self.heapList[i] < self.heapList[i // 2]:\n",
    "             tmp = self.heapList[i // 2]\n",
    "             self.heapList[i // 2] = self.heapList[i]\n",
    "             self.heapList[i] = tmp\n",
    "          i = i // 2\n",
    "\n",
    "    def insert(self,k):\n",
    "      self.heapList.append(k)\n",
    "      self.currentSize = self.currentSize + 1\n",
    "      self.percUp(self.currentSize)\n",
    "\n",
    "    def percDown(self,i):\n",
    "      while (i * 2) <= self.currentSize:\n",
    "          mc = self.minChild(i)\n",
    "          if self.heapList[i] > self.heapList[mc]:\n",
    "              tmp = self.heapList[i]\n",
    "              self.heapList[i] = self.heapList[mc]\n",
    "              self.heapList[mc] = tmp\n",
    "          i = mc\n",
    "\n",
    "    def minChild(self,i):\n",
    "      if i * 2 + 1 > self.currentSize:\n",
    "          return i * 2\n",
    "      else:\n",
    "          if self.heapList[i*2] < self.heapList[i*2+1]:\n",
    "              return i * 2\n",
    "          else:\n",
    "              return i * 2 + 1\n",
    "\n",
    "    def delMin(self):\n",
    "      retval = self.heapList[1]\n",
    "      self.heapList[1] = self.heapList[self.currentSize]\n",
    "      self.currentSize = self.currentSize - 1\n",
    "      self.heapList.pop()\n",
    "      self.percDown(1)\n",
    "      return retval\n",
    "\n",
    "    def buildHeap(self,alist):\n",
    "      i = len(alist) // 2\n",
    "      self.currentSize = len(alist)\n",
    "      self.heapList = [0] + alist[:]\n",
    "      while (i > 0):\n",
    "          self.percDown(i)\n",
    "          i = i - 1\n"
   ]
  },
  {
   "cell_type": "code",
   "execution_count": 4,
   "metadata": {},
   "outputs": [
    {
     "name": "stdout",
     "output_type": "stream",
     "text": [
      "2\n",
      "3\n",
      "5\n",
      "6\n",
      "9\n"
     ]
    }
   ],
   "source": [
    "bh = BinHeap()\n",
    "bh.buildHeap([9,5,6,2,3])\n",
    "\n",
    "print(bh.delMin())\n",
    "print(bh.delMin())\n",
    "print(bh.delMin())\n",
    "print(bh.delMin())\n",
    "print(bh.delMin())\n"
   ]
  },
  {
   "cell_type": "markdown",
   "metadata": {},
   "source": [
    "Reference: http://interactivepython.org/courselib/static/pythonds/Trees/BinaryHeapImplementation.html"
   ]
  },
  {
   "cell_type": "code",
   "execution_count": null,
   "metadata": {},
   "outputs": [],
   "source": []
  }
 ],
 "metadata": {
  "kernelspec": {
   "display_name": "Python 3",
   "language": "python",
   "name": "python3"
  },
  "language_info": {
   "codemirror_mode": {
    "name": "ipython",
    "version": 3
   },
   "file_extension": ".py",
   "mimetype": "text/x-python",
   "name": "python",
   "nbconvert_exporter": "python",
   "pygments_lexer": "ipython3",
   "version": "3.6.5"
  }
 },
 "nbformat": 4,
 "nbformat_minor": 2
}
