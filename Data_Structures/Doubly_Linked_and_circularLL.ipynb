{
 "cells": [
  {
   "cell_type": "markdown",
   "metadata": {},
   "source": [
    "**Refer to following [notebook](https://github.com/jyotipmahes/Programming-for-DS/blob/master/Data_Structures/Singly_Linked_List_Basic.ipynb) for the basics of Singly Linked List**"
   ]
  },
  {
   "cell_type": "markdown",
   "metadata": {},
   "source": [
    "# Doubly Linked List"
   ]
  },
  {
   "cell_type": "markdown",
   "metadata": {},
   "source": [
    "A **Doubly Linked List (DLL)** contains an **extra pointer**, typically called **previous pointer**, together with **next pointer** and data which are there in singly linked list."
   ]
  },
  {
   "cell_type": "markdown",
   "metadata": {},
   "source": [
    "![title](https://www.geeksforgeeks.org/wp-content/uploads/gq/2014/03/DLL1.png)"
   ]
  },
  {
   "cell_type": "markdown",
   "metadata": {},
   "source": [
    "**Advantages over singly linked list**\n",
    "\n",
    "1. A DLL can be traversed in both forward and backward direction.\n",
    "2. The delete operation in DLL is more efficient if pointer to the node to be deleted is given.\n",
    "3. We can quickly insert a new node before a given node.\n",
    "\n",
    "\n",
    "**Disadvantages over singly linked list**\n",
    "1. Every node of DLL Require extra space for an previous pointer. It is possible to implement DLL with single pointer though. We will explore it towards the end.\n",
    "2. All operations require an extra pointer previous to be maintained. "
   ]
  },
  {
   "cell_type": "markdown",
   "metadata": {},
   "source": [
    "## Basic Operations in DLL"
   ]
  },
  {
   "cell_type": "markdown",
   "metadata": {},
   "source": [
    "### Insertion\n",
    "A node can be added in four ways\n",
    "1. At the front of the DLL (Push())\n",
    "2. After a given node. (AfterNode())\n",
    "3. At the end of the DLL (Append())\n",
    "4. Before a given node (BeforeNode())"
   ]
  },
  {
   "cell_type": "code",
   "execution_count": 28,
   "metadata": {},
   "outputs": [],
   "source": [
    "class Node:\n",
    "    def __init__(self, data):\n",
    "        self.data = data\n",
    "        self.next = None\n",
    "        self.prev = None\n",
    "\n",
    "class DLL:\n",
    "    def __init__(self):\n",
    "        self.head = None\n",
    "        \n",
    "    def isEmpty(self):\n",
    "        return self.head == None\n",
    "    \n",
    "    # Insertions\n",
    "    # At the front of the DLL\n",
    "    def push(self, data):\n",
    "        temp = Node(data)\n",
    "        \n",
    "        if self.isEmpty():\n",
    "            self.head = temp\n",
    "        else:\n",
    "            temp.next = self.head\n",
    "            self.head = temp\n",
    "        print(\"{} added at front of  DLL\".format(data)) \n",
    "        \n",
    "    # Insert at the end of the DLL\n",
    "    def append(self, data):\n",
    "        temp = Node(data)\n",
    "        \n",
    "        if self.isEmpty():\n",
    "            self.head = temp\n",
    "        else:\n",
    "            head = self.head\n",
    "            \n",
    "            # Find the end of DLL\n",
    "            while(head.next):\n",
    "                head = head.next\n",
    "            head.next = temp\n",
    "        print(\"{} added at end of  DLL\".format(data))\n",
    "    \n",
    "    \n",
    "    def afterNode(self, node, data):\n",
    "        temp = Node(data)\n",
    "        temp.next = node.next\n",
    "        temp.prev = node\n",
    "        node.next = temp\n",
    "        if temp.next is not None:\n",
    "            temp.next.prev = temp\n",
    "        print(\"{} added after {} in DLL\".format(data, node.data))\n",
    " \n",
    "\n",
    "    def beforeNode(self, node, data):\n",
    "        temp = Node(data)\n",
    "        if node.prev is not None:\n",
    "            node.prev.next = temp\n",
    "        temp.prev = node.prev\n",
    "        node.prev = temp\n",
    "        temp.next = node\n",
    "        \n",
    "        print(\"{} added before {} in DLL\".format(data, node.data))\n",
    "        \n",
    "        \n",
    "    def printDLL(self):\n",
    "        head = self.head\n",
    "        list = []\n",
    "        while(head):\n",
    "            list.append(head.data)\n",
    "            head = head.next\n",
    "        \n",
    "        print(list)"
   ]
  },
  {
   "cell_type": "code",
   "execution_count": 30,
   "metadata": {},
   "outputs": [
    {
     "name": "stdout",
     "output_type": "stream",
     "text": [
      "[]\n",
      "3 added at front of  DLL\n",
      "[3]\n",
      "4 added at front of  DLL\n",
      "[4, 3]\n",
      "5 added at end of  DLL\n",
      "[4, 3, 5]\n",
      "9 added after 3 in DLL\n",
      "[4, 3, 9, 5]\n",
      "10 added before 9 in DLL\n",
      "[4, 3, 10, 9, 5]\n",
      "17 added after 9 in DLL\n",
      "[4, 3, 10, 9, 17, 5]\n"
     ]
    }
   ],
   "source": [
    "d = DLL()\n",
    "d.printDLL()\n",
    "d.push(3)\n",
    "d.printDLL()\n",
    "d.push(4)\n",
    "d.printDLL()\n",
    "d.append(5)\n",
    "d.printDLL()\n",
    "d.afterNode(d.head.next, 9)\n",
    "d.printDLL()\n",
    "d.beforeNode(d.head.next.next,10)\n",
    "d.printDLL()\n",
    "d.afterNode(d.head.next.next.next, 17)\n",
    "d.printDLL()"
   ]
  },
  {
   "cell_type": "markdown",
   "metadata": {},
   "source": [
    "### Deletion\n",
    "We need to check for following conditions and update based on that:\n",
    "1. Element to be deleted not present\n",
    "2. Element to be deleted is the head\n",
    "3. Element to be deleted is the tail\n",
    "4. Element in between"
   ]
  },
  {
   "cell_type": "code",
   "execution_count": 49,
   "metadata": {},
   "outputs": [],
   "source": [
    "class Node:\n",
    "    def __init__(self, data):\n",
    "        self.data = data\n",
    "        self.next = None\n",
    "        self.prev = None\n",
    "\n",
    "class DLL:\n",
    "    def __init__(self):\n",
    "        self.head = None\n",
    "        \n",
    "    def isEmpty(self):\n",
    "        return self.head == None\n",
    "    \n",
    "    # Insertions\n",
    "    # At the front of the DLL\n",
    "    def push(self, data):\n",
    "        temp = Node(data)\n",
    "        \n",
    "        if self.isEmpty():\n",
    "            self.head = temp\n",
    "        else:\n",
    "            temp.next = self.head\n",
    "            self.head = temp\n",
    "        print(\"{} added at front of  DLL\".format(data)) \n",
    "        \n",
    "    # Insert at the end of the DLL\n",
    "    def append(self, data):\n",
    "        temp = Node(data)\n",
    "        \n",
    "        if self.isEmpty():\n",
    "            self.head = temp\n",
    "        else:\n",
    "            head = self.head\n",
    "            \n",
    "            # Find the end of DLL\n",
    "            while(head.next):\n",
    "                head = head.next\n",
    "            head.next = temp\n",
    "        print(\"{} added at end of  DLL\".format(data))\n",
    "    \n",
    "    \n",
    "    def afterNode(self, node, data):\n",
    "        temp = Node(data)\n",
    "        temp.next = node.next\n",
    "        temp.prev = node\n",
    "        node.next = temp\n",
    "        if temp.next is not None:\n",
    "            temp.next.prev = temp\n",
    "        print(\"{} added after {} in DLL\".format(data, node.data))\n",
    " \n",
    "\n",
    "    def beforeNode(self, node, data):\n",
    "        temp = Node(data)\n",
    "        if node.prev is not None:\n",
    "            node.prev.next = temp\n",
    "        temp.prev = node.prev\n",
    "        node.prev = temp\n",
    "        temp.next = node\n",
    "        \n",
    "        print(\"{} added before {} in DLL\".format(data, node.data))\n",
    "        \n",
    "    def delete(self, value):\n",
    "        if self.head is None or value is None:\n",
    "            print(\"No element to delete\")\n",
    "            return\n",
    "        \n",
    "        head = self.head\n",
    "        while (head.data != value):\n",
    "            head = head.next\n",
    "            \n",
    "        if head.prev is None and head.next is None:\n",
    "            self.head = None \n",
    "        \n",
    "        elif head.prev is None and head.next is not None:\n",
    "            self.head = head.next\n",
    "            self.head.prev = None\n",
    "    \n",
    "        elif head.next is None:\n",
    "            head.prev.next = None\n",
    "            \n",
    "        else:\n",
    "            head.prev.next = head.next\n",
    "            head.next.prev = head.prev\n",
    "        \n",
    "       \n",
    "    def printDLL(self):\n",
    "        head = self.head\n",
    "        list = []\n",
    "        while(head):\n",
    "            list.append(head.data)\n",
    "            head = head.next\n",
    "        \n",
    "        print(list)"
   ]
  },
  {
   "cell_type": "code",
   "execution_count": 50,
   "metadata": {},
   "outputs": [
    {
     "name": "stdout",
     "output_type": "stream",
     "text": [
      "3 added at front of  DLL\n",
      "4 added at front of  DLL\n",
      "5 added at end of  DLL\n",
      "9 added after 3 in DLL\n",
      "10 added before 9 in DLL\n",
      "17 added after 9 in DLL\n",
      "[4, 3, 10, 9, 17, 5]\n"
     ]
    }
   ],
   "source": [
    "d = DLL()\n",
    "d.push(3)\n",
    "d.push(4)\n",
    "d.append(5)\n",
    "d.afterNode(d.head.next, 9)\n",
    "d.beforeNode(d.head.next.next,10)\n",
    "d.afterNode(d.head.next.next.next, 17)\n",
    "d.printDLL()"
   ]
  },
  {
   "cell_type": "code",
   "execution_count": 51,
   "metadata": {},
   "outputs": [
    {
     "name": "stdout",
     "output_type": "stream",
     "text": [
      "[3, 10, 9, 17, 5]\n",
      "[10, 9, 17, 5]\n",
      "[10, 17, 5]\n",
      "[10, 5]\n",
      "[5]\n",
      "[]\n",
      "No element to delete\n"
     ]
    }
   ],
   "source": [
    "d.delete(4)\n",
    "d.printDLL()\n",
    "d.delete(3)\n",
    "d.printDLL()\n",
    "d.delete(9)\n",
    "d.printDLL()\n",
    "d.delete(17)\n",
    "d.printDLL()\n",
    "d.delete(10)\n",
    "d.printDLL()\n",
    "d.delete(5)\n",
    "d.printDLL()\n",
    "d.delete(7)"
   ]
  },
  {
   "cell_type": "markdown",
   "metadata": {},
   "source": [
    "### Reverse a DLL"
   ]
  },
  {
   "cell_type": "code",
   "execution_count": null,
   "metadata": {},
   "outputs": [],
   "source": [
    "def reverse(self):\n",
    "    temp = None\n",
    "    current = self.head \n",
    "\n",
    "    # Swap next and prev for all nodes of  \n",
    "    # doubly linked list \n",
    "    while current is not None: \n",
    "        temp = current.prev  \n",
    "        current.prev = current.next\n",
    "        current.next = temp \n",
    "        current = current.prev \n",
    "\n",
    "    # Before changing head, check for the cases like  \n",
    "    # empty list and list with only one node \n",
    "    if temp is not None: \n",
    "        self.head = temp.prev "
   ]
  },
  {
   "cell_type": "markdown",
   "metadata": {},
   "source": [
    "## XOR Linked List – A Memory Efficient Doubly Linked List\n",
    "An ordinary Doubly Linked List requires space for two address fields to store the addresses of previous and next nodes. A memory efficient version of Doubly Linked List can be created using only one space for address field with every node. This memory efficient Doubly Linked List is called XOR Linked List or Memory Efficient as the list uses bitwise XOR operation to save space for one address. In the XOR linked list, instead of storing actual memory addresses, every node stores the XOR of addresses of previous and next nodes.[Link](https://www.geeksforgeeks.org/xor-linked-list-a-memory-efficient-doubly-linked-list-set-1/)"
   ]
  },
  {
   "cell_type": "markdown",
   "metadata": {},
   "source": [
    "# Circular Linked List"
   ]
  },
  {
   "cell_type": "markdown",
   "metadata": {},
   "source": [
    "**Circular linked list** is a linked list where **all nodes are connected to form a circle**. There is **no NULL at the end**. A circular linked list can be a singly circular linked list or doubly circular linked list"
   ]
  },
  {
   "cell_type": "markdown",
   "metadata": {},
   "source": [
    "**Advantages of Circular Linked Lists:**\n",
    "\n",
    "1. Any node can be a starting point. We can traverse the whole list by starting from any point. We just need to stop when the first visited node is visited again.\n",
    "\n",
    "2. Useful for implementation of queue. Unlike this implementation, we don’t need to maintain two pointers for front and rear if we use circular linked list. We can maintain a pointer to the last inserted node and front can always be obtained as next of last.\n",
    "\n",
    "3. Circular lists are useful in applications to repeatedly go around the list. \n",
    "\n",
    "4. Circular Doubly Linked Lists are used for implementation of advanced data structures like Fibonacci Heap.\n",
    "\n",
    "\n",
    "**To implement a circular singly linked list, we take an external pointer that points to the last node of the list**"
   ]
  },
  {
   "cell_type": "markdown",
   "metadata": {},
   "source": [
    "![titel](https://cdncontribute.geeksforgeeks.org/wp-content/uploads/CircularSinglyLinkedList.png)"
   ]
  },
  {
   "cell_type": "markdown",
   "metadata": {},
   "source": [
    "### Insertion operation\n",
    "1. Insertion in an empty list\n",
    "2. Insertion at the beginning of the list\n",
    "3. Insertion at the end of the list\n",
    "4. Insertion in between the nodes\n"
   ]
  },
  {
   "cell_type": "code",
   "execution_count": null,
   "metadata": {},
   "outputs": [],
   "source": [
    "class Node: \n",
    "      \n",
    "    # Constructor to create  a new node \n",
    "    def __init__(self, data): \n",
    "        self.data = data  \n",
    "        self.next = None\n",
    "\n",
    "class CircularLinkedList: \n",
    "      \n",
    "    # Constructor to create a empty circular linked list \n",
    "    def __init__(self): \n",
    "        self.head = None\n",
    "  \n",
    "    # Function to insert a node at the beginning of a \n",
    "    # circular linked list \n",
    "    def push(self, data): \n",
    "        ptr1 = Node(data) \n",
    "        temp = self.head \n",
    "          \n",
    "        ptr1.next = self.head \n",
    "  \n",
    "        # If linked list is not None then set the next of \n",
    "        # last node \n",
    "        if self.head is not None: \n",
    "            while(temp.next != self.head): \n",
    "                temp = temp.next \n",
    "            temp.next = ptr1 \n",
    "  \n",
    "        else: \n",
    "            ptr1.next = ptr1 # For the first node \n",
    "  \n",
    "        self.head = ptr1  \n",
    "  \n",
    "    # Function to print nodes in a given circular linked list \n",
    "    def printList(self): \n",
    "        temp = self.head \n",
    "        if self.head is not None: \n",
    "            while(True): \n",
    "                print \"%d\" %(temp.data), \n",
    "                temp = temp.next\n",
    "                if (temp == self.head): \n",
    "                    break \n",
    "  "
   ]
  }
 ],
 "metadata": {
  "kernelspec": {
   "display_name": "Python 3",
   "language": "python",
   "name": "python3"
  },
  "language_info": {
   "codemirror_mode": {
    "name": "ipython",
    "version": 3
   },
   "file_extension": ".py",
   "mimetype": "text/x-python",
   "name": "python",
   "nbconvert_exporter": "python",
   "pygments_lexer": "ipython3",
   "version": "3.6.5"
  }
 },
 "nbformat": 4,
 "nbformat_minor": 2
}
