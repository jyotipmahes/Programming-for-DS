{
 "cells": [
  {
   "cell_type": "markdown",
   "metadata": {},
   "source": [
    "# Graphs"
   ]
  },
  {
   "cell_type": "markdown",
   "metadata": {},
   "source": [
    "A **Graph** is a non-linear data structure consisting of **nodes and edges**. The **nodes** are sometimes also referred to as **vertices** and the **edges** are **lines or arcs** that connect any two nodes in the graph."
   ]
  },
  {
   "cell_type": "markdown",
   "metadata": {},
   "source": [
    "![title](https://www.geeksforgeeks.org/wp-content/uploads/undirectedgraph.png)"
   ]
  },
  {
   "cell_type": "markdown",
   "metadata": {},
   "source": [
    "Graphs are used to solve many real-life problems. Graphs are used to represent networks. The networks may include paths in a city or telephone network or circuit network. Graphs are also used in social networks like linkedIn, Facebook. \n",
    "\n",
    "**Graph is a data structure that consists of following two components:**\n",
    "1. A finite set of vertices also called as nodes.\n",
    "2. A finite set of ordered pair of the form (u, v) called as edge. "
   ]
  },
  {
   "cell_type": "markdown",
   "metadata": {},
   "source": [
    "## Types of Graphs\n",
    "1. **Directed:** If the The pair is ordered and (u, v) is not same as (v, u), we call it Directed Graph(di-graph). The pair of the form (u, v) indicates that there is an edge from vertex u to vertex v. \n",
    "2. **Undirected:** If there is no specific direction of relation between (u,v), we call it Undirected Graph"
   ]
  },
  {
   "cell_type": "markdown",
   "metadata": {},
   "source": [
    "## Graph Representation\n",
    "1. Adjacency Matrix:\n",
    "2. Adjacency List"
   ]
  },
  {
   "cell_type": "markdown",
   "metadata": {},
   "source": [
    "### 1. Adjacency Matrix:\n",
    "Adjacency Matrix is a 2D array of size **V x V** where **V** is the **number of vertices** in a graph. Let the 2D array be adj[][], a slot **adj[i][j] = 1** indicates that there is an **edge from vertex i to vertex j**. Adjacency matrix for **undirected graph is always symmetric**. Adjacency Matrix is also used to represent **weighted graphs**. If **adj[i][j] = w**, then there is an edge from vertex **i to vertex j with weight w**."
   ]
  },
  {
   "cell_type": "markdown",
   "metadata": {},
   "source": [
    "![title](https://cdncontribute.geeksforgeeks.org/wp-content/uploads/adjacencymatrix.png)"
   ]
  },
  {
   "cell_type": "markdown",
   "metadata": {},
   "source": [
    "**Pros:** \n",
    "1. Representation is easier to implement and follow. \n",
    "2. Removing an edge takes O(1) time. \n",
    "3. Queries like whether there is an edge from vertex ‘u’ to vertex ‘v’ are efficient and can be done O(1).\n",
    "\n",
    "**Cons:** \n",
    "1. Consumes more space O(V^2). Even if the graph is sparse(contains less number of edges), it consumes the same space. \n",
    "2. Adding a vertex is O(V^2) time."
   ]
  },
  {
   "cell_type": "markdown",
   "metadata": {},
   "source": [
    "### Implementation"
   ]
  },
  {
   "cell_type": "code",
   "execution_count": 22,
   "metadata": {},
   "outputs": [],
   "source": [
    "class Graph:\n",
    "    def __init__(self, numVert):\n",
    "        self.numVert = numVert\n",
    "        self.adjMatrix = [[0]*self.numVert for i in range(numVert)]\n",
    "        self.vertex = {} # Dict to store vertexe values and positions\n",
    "        self.vertexlist = [0]*self.numVert\n",
    "        \n",
    "    def setVertex(self, idx, value):\n",
    "        if 0<=idx<self.numVert:\n",
    "            self.vertex[value] = idx\n",
    "            self.vertexlist[idx] = value\n",
    "    \n",
    "    def addEdge(self, frm, to, weight=1, di=False):\n",
    "        fidx = self.vertex[frm]\n",
    "        tidx = self.vertex[to]\n",
    "        self.adjMatrix[fidx][tidx] = weight\n",
    "        \n",
    "        if not di:\n",
    "            self.adjMatrix[tidx][fidx] = weight\n",
    "    \n",
    "    def delEdge(self, frm, to, di=False):\n",
    "        fidx = self.vertex[frm]\n",
    "        tidx = self.vertex[to]\n",
    "        self.adjMatrix[fidx][tidx] = 0\n",
    "        \n",
    "        if not di:\n",
    "            self.adjMatrix[tidx][fidx] = 0\n",
    "    \n",
    "    def getVertex(self):\n",
    "        return self.vertexlist\n",
    "        \n",
    "    def getEdges(self):\n",
    "        edges = []\n",
    "        for i in range(self.numVert):\n",
    "            for j in range(self.numVert):\n",
    "                if self.adjMatrix[i][j]!=0:\n",
    "                    edges.append((self.vertexlist[i], self.vertexlist[j], self.adjMatrix[i][j]))\n",
    "        return edges\n",
    "    \n",
    "    def getMatrix(self):\n",
    "        return self.adjMatrix\n",
    "                    "
   ]
  },
  {
   "cell_type": "code",
   "execution_count": 23,
   "metadata": {},
   "outputs": [
    {
     "name": "stdout",
     "output_type": "stream",
     "text": [
      "Vertices of Graph\n",
      "['a', 'b', 'c', 'd', 'e', 'f']\n",
      "Edges of Graph\n",
      "[('a', 'c', 20), ('a', 'e', 10), ('b', 'c', 30), ('b', 'e', 40), ('c', 'a', 20), ('c', 'b', 30), ('d', 'e', 50), ('e', 'a', 10), ('e', 'b', 40), ('e', 'd', 50), ('e', 'f', 60), ('f', 'e', 60)]\n",
      "Adjacency Matrix of Graph\n",
      "[[0, 0, 20, 0, 10, 0], [0, 0, 30, 0, 40, 0], [20, 30, 0, 0, 0, 0], [0, 0, 0, 0, 50, 0], [10, 40, 0, 50, 0, 60], [0, 0, 0, 0, 60, 0]]\n"
     ]
    }
   ],
   "source": [
    "G =Graph(6)\n",
    "G.setVertex(0,'a')\n",
    "G.setVertex(1,'b')\n",
    "G.setVertex(2,'c')\n",
    "G.setVertex(3,'d')\n",
    "G.setVertex(4,'e')\n",
    "G.setVertex(5,'f')\n",
    "G.addEdge('a','e',10)\n",
    "G.addEdge('a','c',20)\n",
    "G.addEdge('c','b',30)\n",
    "G.addEdge('b','e',40)\n",
    "G.addEdge('e','d',50)\n",
    "G.addEdge('f','e',60)\n",
    "print(\"Vertices of Graph\")\n",
    "print(G.getVertex())\n",
    "print(\"Edges of Graph\")\n",
    "print(G.getEdges())\n",
    "print(\"Adjacency Matrix of Graph\")\n",
    "print(G.getMatrix())"
   ]
  },
  {
   "cell_type": "markdown",
   "metadata": {},
   "source": [
    "### Adjacency List:\n",
    "**An array of lists** is used. Size of the array is equal to the **number of vertices**. Let the array be array[]. An entry **array[i] represents the list of vertices adjacent to the ith vertex**. This representation can also be used to represent a weighted graph. The **weights of edges can be represented as lists of pairs**. Following is adjacency list representation of the above graph."
   ]
  },
  {
   "cell_type": "markdown",
   "metadata": {},
   "source": [
    "![title](https://cdncontribute.geeksforgeeks.org/wp-content/uploads/listadjacency.png)"
   ]
  },
  {
   "cell_type": "markdown",
   "metadata": {},
   "source": [
    "**Pros:** \n",
    "1. Saves space O(|V|+|E|) . In the worst case, there can be C(V, 2) number of edges in a graph thus consuming O(V^2) space. \n",
    "2. Adding a vertex is easier.\n",
    "\n",
    "**Cons:** \n",
    "1. Queries like whether there is an edge from vertex u to vertex v are not efficient and can be done O(V)."
   ]
  },
  {
   "cell_type": "markdown",
   "metadata": {},
   "source": [
    "### Implementation"
   ]
  },
  {
   "cell_type": "code",
   "execution_count": 1,
   "metadata": {},
   "outputs": [],
   "source": [
    "class AdjNode: \n",
    "    def __init__(self, data): \n",
    "        self.vertex = data \n",
    "        self.next = None\n",
    "  \n",
    "  \n",
    "class Graph: \n",
    "    def __init__(self, vertices): \n",
    "        self.V = vertices \n",
    "        self.graph = [None] * self.V \n",
    "  \n",
    "    # Function to add an edge in an undirected graph \n",
    "    def add_edge(self, src, dest): \n",
    "        # Adding the node to the source node \n",
    "        node = AdjNode(dest) \n",
    "        node.next = self.graph[src] \n",
    "        self.graph[src] = node \n",
    "  \n",
    "        # Adding the source node to the destination as \n",
    "        # it is the undirected graph \n",
    "        node = AdjNode(src) \n",
    "        node.next = self.graph[dest] \n",
    "        self.graph[dest] = node \n",
    "  \n",
    "    # Function to print the graph \n",
    "    def print_graph(self): \n",
    "        for i in range(self.V): \n",
    "            print(\"Adjacency list of vertex {}\\n head\".format(i), end=\"\") \n",
    "            temp = self.graph[i] \n",
    "            while temp: \n",
    "                print(\" -> {}\".format(temp.vertex), end=\"\") \n",
    "                temp = temp.next\n",
    "            print(\" \\n\") \n",
    "  "
   ]
  },
  {
   "cell_type": "markdown",
   "metadata": {},
   "source": [
    "## Graph Traversal"
   ]
  },
  {
   "cell_type": "markdown",
   "metadata": {},
   "source": [
    "### 1. Breadth First Search:"
   ]
  },
  {
   "cell_type": "markdown",
   "metadata": {},
   "source": [
    "In BFS, we first visit all adjacent nodes before going deeper. It is similar to tree BFS but we need to check for cycles as that can cause us to get stuck in loop. Here is the algo for BFS:\n",
    "1. Add a node/vertex from the graph to a queue of nodes to be “visited”.\n",
    "2. Visit the topmost node in the queue, and mark it as such.\n",
    "3. If that node has any neighbors, check to see if they have been “visited” or not.\n",
    "4. Add any neighboring nodes that still need to be “visited” to the queue.\n",
    "5. Remove the node we’ve visited from the queue."
   ]
  },
  {
   "cell_type": "code",
   "execution_count": 4,
   "metadata": {},
   "outputs": [],
   "source": [
    "from collections import defaultdict\n",
    "\n",
    "# Lets define a graph first using dictionary and list\n",
    "\n",
    "class Graph:\n",
    "    def __init__(self):\n",
    "         self.graph = defaultdict(list)\n",
    "    \n",
    "    def addEdge(self, src, dest):\n",
    "        self.graph[src].append(dest)\n",
    "        \n",
    "    def BFS(self, s):\n",
    "        visited = []\n",
    "        \n",
    "        queue = []\n",
    "        \n",
    "        queue.append(s)\n",
    "        visited.append(s)\n",
    "        \n",
    "        while queue:\n",
    "            s= queue.pop(0)\n",
    "            print(s, end= \" \")\n",
    "            \n",
    "            for i in self.graph[s]:\n",
    "                if i not in visited:\n",
    "                    queue.append(i)\n",
    "                    visited.append(i)"
   ]
  },
  {
   "cell_type": "markdown",
   "metadata": {},
   "source": [
    "![title](https://cdncontribute.geeksforgeeks.org/wp-content/uploads/bfs-5.png)"
   ]
  },
  {
   "cell_type": "code",
   "execution_count": 7,
   "metadata": {},
   "outputs": [
    {
     "name": "stdout",
     "output_type": "stream",
     "text": [
      "Following is Breadth First Traversal (starting from vertex 2)\n",
      "2 0 3 1 "
     ]
    }
   ],
   "source": [
    "# BFS on above graph\n",
    "g = Graph() \n",
    "g.addEdge(0, 1) \n",
    "g.addEdge(0, 2) \n",
    "g.addEdge(1, 2) \n",
    "g.addEdge(2, 0) \n",
    "g.addEdge(2, 3) \n",
    "g.addEdge(3, 3) \n",
    "  \n",
    "print (\"Following is Breadth First Traversal\"\n",
    "                  \" (starting from vertex 2)\") \n",
    "g.BFS(2) "
   ]
  },
  {
   "cell_type": "markdown",
   "metadata": {},
   "source": [
    "### 2. Depth First Search"
   ]
  },
  {
   "cell_type": "markdown",
   "metadata": {},
   "source": [
    "Depth first search is similar to tree's. We just need to take care of presence of cycles."
   ]
  },
  {
   "cell_type": "code",
   "execution_count": null,
   "metadata": {},
   "outputs": [],
   "source": [
    "def DFS(self,v,visited=[]): \n",
    "  \n",
    "        # Mark the current node as visited and print it \n",
    "        visited.append(v)\n",
    "        print v \n",
    "  \n",
    "        # Recur for all the vertices adjacent to this vertex \n",
    "        for i in self.graph[v]: \n",
    "            if i not in visited: \n",
    "                self.DFSUtil(i, visited)"
   ]
  }
 ],
 "metadata": {
  "kernelspec": {
   "display_name": "Python 3",
   "language": "python",
   "name": "python3"
  },
  "language_info": {
   "codemirror_mode": {
    "name": "ipython",
    "version": 3
   },
   "file_extension": ".py",
   "mimetype": "text/x-python",
   "name": "python",
   "nbconvert_exporter": "python",
   "pygments_lexer": "ipython3",
   "version": "3.6.5"
  }
 },
 "nbformat": 4,
 "nbformat_minor": 2
}
