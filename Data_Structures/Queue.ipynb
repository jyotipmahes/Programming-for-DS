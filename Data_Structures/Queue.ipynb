{
 "cells": [
  {
   "cell_type": "markdown",
   "metadata": {},
   "source": [
    "# Queue"
   ]
  },
  {
   "cell_type": "markdown",
   "metadata": {},
   "source": [
    "## A. First in First Out DS"
   ]
  },
  {
   "cell_type": "markdown",
   "metadata": {},
   "source": [
    "In a FIFO data structure, the first element added to the queue will be processed first.<br>\n",
    "\n",
    "**Queue** is a typical FIFO data stucture. The insert operation is also called enqueue and the new element is always added at the end/back of the queue. The delete operation is called dequeue. You are only allowed to remove the first element from front/head."
   ]
  },
  {
   "cell_type": "markdown",
   "metadata": {},
   "source": [
    "![title](https://s3-lc-upload.s3.amazonaws.com/uploads/2018/05/02/screen-shot-2018-05-02-at-174355.png)"
   ]
  },
  {
   "cell_type": "markdown",
   "metadata": {},
   "source": [
    "## Various ways of Implementations"
   ]
  },
  {
   "cell_type": "markdown",
   "metadata": {},
   "source": [
    "### Implementation of Queue using python lists(dynamic array)"
   ]
  },
  {
   "cell_type": "markdown",
   "metadata": {},
   "source": [
    "We need to decide which end of the list to use as the rear and which to use as the front. For our implementation we will assume that the **rear is at position 0** in the list. This allows us to use the insert function on lists to add new elements to the rear of the queue. The **pop operation** can be used to remove the **front element** (the last element of the list). This means that **enqueue will be O(n)** since we need to shift all other elements by 1 level and **dequeue will be O(1)** i.e just remove from the front. We can do it other way as well and the orders will switch. Here is the implementation using a class:"
   ]
  },
  {
   "cell_type": "code",
   "execution_count": 1,
   "metadata": {},
   "outputs": [],
   "source": [
    "class Queue:\n",
    "    def __init__(self):\n",
    "        self.items = []\n",
    "    \n",
    "    def isEmpty(self):\n",
    "        return self.items==[]\n",
    "    \n",
    "    def enqueue(self, item):\n",
    "        self.items.insert(0, item)\n",
    "    \n",
    "    def dequeue(self):\n",
    "        return self.items.pop()\n",
    "    \n",
    "    def size(self):\n",
    "        return len(self.items)"
   ]
  },
  {
   "cell_type": "code",
   "execution_count": 2,
   "metadata": {},
   "outputs": [],
   "source": [
    "q=Queue()\n",
    "q.enqueue(4)\n",
    "q.enqueue('dog')\n",
    "q.enqueue(True)\n",
    "print(q.size())\n",
    "print(q.dequeue())\n",
    "print(q.size())"
   ]
  },
  {
   "cell_type": "markdown",
   "metadata": {},
   "source": [
    "The implementation above is straightforward but is inefficient in some cases. There is wastage of space. And it will be unacceptable when we only have a space limitation."
   ]
  },
  {
   "cell_type": "markdown",
   "metadata": {},
   "source": [
    "### Circular  Implementation of Queue using python lists(normal array of fixed size)"
   ]
  },
  {
   "cell_type": "markdown",
   "metadata": {},
   "source": [
    "**Important Terms**\n",
    "**size**: Number of items currently present<br>\n",
    "**capacity**: Number of items that can be stored<br>\n",
    "**que_front**: Front element<br>\n",
    "**que_rear**: Rear element <br>\n",
    "Here we consider **0 as the front position.**"
   ]
  },
  {
   "cell_type": "code",
   "execution_count": 3,
   "metadata": {},
   "outputs": [],
   "source": [
    "class Queue: \n",
    "  \n",
    "    # __init__ function \n",
    "    def __init__(self, capacity): \n",
    "        self.front = self.size = 0\n",
    "        self.rear = capacity -1\n",
    "        self.Q = [None]*capacity \n",
    "        self.capacity = capacity \n",
    "      \n",
    "    # Queue is full when size becomes equal to the capacity  \n",
    "    def isFull(self): \n",
    "        return self.size == self.capacity \n",
    "      \n",
    "    # Queue is empty when size is 0 \n",
    "    def isEmpty(self): \n",
    "        return self.size == 0\n",
    "  \n",
    "    # Function to add an item to the queue.  \n",
    "    # It changes rear and size \n",
    "    def EnQueue(self, item): \n",
    "        if self.isFull(): \n",
    "            print(\"Full\") \n",
    "            return\n",
    "        self.rear = (self.rear + 1) % (self.capacity)  # Make it circular so we can use to full capacity\n",
    "        self.Q[self.rear] = item \n",
    "        self.size = self.size + 1\n",
    "        print(\"%s enqueued to queue\"  %str(item)) \n",
    "  \n",
    "    # Function to remove an item from queue.  \n",
    "    # It changes front and size \n",
    "    def DeQueue(self): \n",
    "        if self.isEmpty(): \n",
    "            print(\"Empty\") \n",
    "            return\n",
    "          \n",
    "        print(\"%s dequeued from queue\" %str(self.Q[self.front])) \n",
    "        self.front = (self.front + 1) % (self.capacity)  # Make it circular so we can use to full capacity\n",
    "        self.size = self.size -1\n",
    "          \n",
    "    # Function to get front of queue \n",
    "    def que_front(self): \n",
    "        if self.isEmpty(): \n",
    "            print(\"Queue is empty\") \n",
    "  \n",
    "        print(\"Front item is\", self.Q[self.front]) \n",
    "          \n",
    "    # Function to get rear of queue \n",
    "    def que_rear(self): \n",
    "        if self.isEmpty(): \n",
    "            print(\"Queue is empty\") \n",
    "        print(\"Rear item is\",  self.Q[self.rear]) \n",
    "  "
   ]
  },
  {
   "cell_type": "code",
   "execution_count": 4,
   "metadata": {},
   "outputs": [
    {
     "name": "stdout",
     "output_type": "stream",
     "text": [
      "10 enqueued to queue\n",
      "20 enqueued to queue\n",
      "30 enqueued to queue\n",
      "40 enqueued to queue\n",
      "10 dequeued from queue\n",
      "Front item is 20\n",
      "Rear item is 40\n"
     ]
    }
   ],
   "source": [
    "queue = Queue(30) \n",
    "queue.EnQueue(10) \n",
    "queue.EnQueue(20) \n",
    "queue.EnQueue(30) \n",
    "queue.EnQueue(40) \n",
    "queue.DeQueue() \n",
    "queue.que_front() \n",
    "queue.que_rear() "
   ]
  },
  {
   "cell_type": "markdown",
   "metadata": {},
   "source": [
    "### Implementation of Queue using Linked List"
   ]
  },
  {
   "cell_type": "code",
   "execution_count": 5,
   "metadata": {},
   "outputs": [],
   "source": [
    "# Defining node for stack\n",
    "class Node: \n",
    "      \n",
    "    def __init__(self, data): \n",
    "        self.data = data \n",
    "        self.next = None\n",
    "\n",
    "\n",
    "class Queue: \n",
    "      \n",
    "    def __init__(self): \n",
    "        self.front = None\n",
    "        self.rear = None  # Storing the front and rear if Linked list\n",
    "  \n",
    "    def isEmpty(self): \n",
    "        return self.front == None\n",
    "      \n",
    "    # Method to add an item to the queue \n",
    "    def EnQueue(self, item): \n",
    "        temp = Node(item) \n",
    "          \n",
    "        if self.rear == None: \n",
    "            self.front = self.rear = temp \n",
    "            return\n",
    "        self.rear.next = temp  # Adding to the rear\n",
    "        self.rear = temp  # Updating rear to new node added \n",
    "  \n",
    "    # Method to remove an item from queue \n",
    "    def DeQueue(self): \n",
    "          \n",
    "        if self.isEmpty(): \n",
    "            return\n",
    "        temp = self.front \n",
    "        self.front = temp.next  # Assigning next node to front as new front\n",
    "  \n",
    "        if(self.front == None): \n",
    "            self.rear = None\n",
    "        return str(temp.data) \n",
    " "
   ]
  },
  {
   "cell_type": "code",
   "execution_count": 6,
   "metadata": {},
   "outputs": [
    {
     "name": "stdout",
     "output_type": "stream",
     "text": [
      "10\n",
      "20\n"
     ]
    }
   ],
   "source": [
    "q = Queue() \n",
    "q.EnQueue(10) \n",
    "q.EnQueue(20) \n",
    "print(q.DeQueue()) \n",
    "print(q.DeQueue()) \n",
    "q.EnQueue(30) \n",
    "q.EnQueue(40) \n",
    "q.EnQueue(50)"
   ]
  },
  {
   "cell_type": "markdown",
   "metadata": {},
   "source": [
    "## Basic Operations in Queue"
   ]
  },
  {
   "cell_type": "markdown",
   "metadata": {},
   "source": [
    "### 1. Reversing a Queue with the help of recursion"
   ]
  },
  {
   "cell_type": "markdown",
   "metadata": {},
   "source": [
    "We will remove the front element and recursively call the reverse function. This essentially push the front element to a stack and complete the recursion."
   ]
  },
  {
   "cell_type": "code",
   "execution_count": 7,
   "metadata": {},
   "outputs": [],
   "source": [
    "class queue:\n",
    "    \n",
    "    def __init__(self):\n",
    "        self.items = []\n",
    "   \n",
    "    def isEmpty(self):\n",
    "        return self.items == []\n",
    "    \n",
    "    def front(self):\n",
    "        if self.isEmpty():\n",
    "            return \n",
    "        return self.items[0]\n",
    "    \n",
    "    def rear(self):\n",
    "        if self.isEmpty():\n",
    "            return \n",
    "        return self.items[-1]\n",
    "    \n",
    "    def Enqueue(self, item):\n",
    "        self.items.append(item)\n",
    "        \n",
    "    def Dequeue(self):\n",
    "        self.items.pop(0)\n",
    "    \n",
    "    def printq(self):\n",
    "        print(self.items)\n",
    "    \n",
    "\n",
    "def reverse(q):\n",
    "    if q.isEmpty():\n",
    "        return \n",
    "    \n",
    "    data = q.front() # Assign the front item to data\n",
    "    q.Dequeue()  # Remove the front item\n",
    "    \n",
    "    reverse(q)  #Recursively call reverse function on left items\n",
    "    \n",
    "    q.Enqueue(data)\n",
    "    "
   ]
  },
  {
   "cell_type": "code",
   "execution_count": 8,
   "metadata": {},
   "outputs": [
    {
     "name": "stdout",
     "output_type": "stream",
     "text": [
      "[56, 27, 30, 45, 85, 92, 58, 80, 90, 100]\n"
     ]
    }
   ],
   "source": [
    "q = queue() \n",
    "q.Enqueue(56) \n",
    "q.Enqueue(27) \n",
    "q.Enqueue(30) \n",
    "q.Enqueue(45) \n",
    "q.Enqueue(85) \n",
    "q.Enqueue(92) \n",
    "q.Enqueue(58) \n",
    "q.Enqueue(80) \n",
    "q.Enqueue(90) \n",
    "q.Enqueue(100)  \n",
    "q.printq()"
   ]
  },
  {
   "cell_type": "code",
   "execution_count": 9,
   "metadata": {},
   "outputs": [
    {
     "name": "stdout",
     "output_type": "stream",
     "text": [
      "56\n",
      "100\n"
     ]
    }
   ],
   "source": [
    "print(q.front())\n",
    "print(q.rear())"
   ]
  },
  {
   "cell_type": "code",
   "execution_count": 10,
   "metadata": {},
   "outputs": [],
   "source": [
    "reverse(q)"
   ]
  },
  {
   "cell_type": "code",
   "execution_count": 11,
   "metadata": {},
   "outputs": [
    {
     "name": "stdout",
     "output_type": "stream",
     "text": [
      "[100, 90, 80, 58, 92, 85, 45, 30, 27, 56]\n"
     ]
    }
   ],
   "source": [
    "q.printq()"
   ]
  },
  {
   "cell_type": "code",
   "execution_count": 12,
   "metadata": {},
   "outputs": [
    {
     "name": "stdout",
     "output_type": "stream",
     "text": [
      "100\n",
      "56\n"
     ]
    }
   ],
   "source": [
    "print(q.front())\n",
    "print(q.rear())"
   ]
  },
  {
   "cell_type": "markdown",
   "metadata": {},
   "source": [
    "**Above recursion take O(n) time for recursion.Note that recursion implicitly uses stacks to helps in reversing queue. We can implement the same think using stacks explicitly where we dequeue and store the value in a stack and once all items are dequeued we enqueue from the stack**"
   ]
  },
  {
   "cell_type": "markdown",
   "metadata": {},
   "source": [
    "### 2. Reversing the first K elements of a Queue"
   ]
  },
  {
   "cell_type": "markdown",
   "metadata": {},
   "source": [
    "In this case, we will push the initial k elements to a stack, and then enqueue them to the end of the enqueue and then remove the remaining items and enqueue them at the end. We can also implement the stack part recursively which will implicitly handle stack implementation."
   ]
  },
  {
   "cell_type": "code",
   "execution_count": 13,
   "metadata": {},
   "outputs": [],
   "source": [
    "class queue:\n",
    "    \n",
    "    def __init__(self):\n",
    "        self.items = []\n",
    "   \n",
    "    def isEmpty(self):\n",
    "        return self.items == []\n",
    "    \n",
    "    def front(self):\n",
    "        if self.isEmpty():\n",
    "            return \n",
    "        return self.items[0]\n",
    "    \n",
    "    def rear(self):\n",
    "        if self.isEmpty():\n",
    "            return \n",
    "        return self.items[-1]\n",
    "    \n",
    "    def Enqueue(self, item):\n",
    "        self.items.append(item)\n",
    "        \n",
    "    def Dequeue(self):\n",
    "        self.items.pop(0)\n",
    "    \n",
    "    def size(self):\n",
    "        return len(self.items)\n",
    "    \n",
    "    def printq(self):\n",
    "        print(self.items)\n",
    "\n",
    "class stack:\n",
    "    \n",
    "    def __init__(self):\n",
    "        self.items = []\n",
    "        \n",
    "    def isEmpty(self):\n",
    "        return self.items == []\n",
    "    \n",
    "    def pop(self):\n",
    "        if self.isEmpty():\n",
    "            return\n",
    "        return self.items.pop(-1)\n",
    "    \n",
    "    def push(self, item):\n",
    "        self.items.append(item)\n",
    "    \n",
    "\n",
    "def reverse(q, k):\n",
    "    Stack = stack()\n",
    "    size = q.size()\n",
    "    if q.isEmpty() or k>size:\n",
    "        return \n",
    "    \n",
    "    for i in range(k):\n",
    "        data = q.front() \n",
    "        Stack.push(data)\n",
    "        q.Dequeue()\n",
    "    \n",
    "    for i in range(k):\n",
    "        q.Enqueue(Stack.pop())\n",
    "    \n",
    "    for i in range(size-k):\n",
    "        data = q.front()\n",
    "        q.Enqueue(data)\n",
    "        q.Dequeue()"
   ]
  },
  {
   "cell_type": "code",
   "execution_count": 14,
   "metadata": {},
   "outputs": [
    {
     "name": "stdout",
     "output_type": "stream",
     "text": [
      "[56, 27, 30, 45, 85, 92, 58, 80, 90, 100]\n"
     ]
    }
   ],
   "source": [
    "q = queue() \n",
    "q.Enqueue(56) \n",
    "q.Enqueue(27) \n",
    "q.Enqueue(30) \n",
    "q.Enqueue(45) \n",
    "q.Enqueue(85) \n",
    "q.Enqueue(92) \n",
    "q.Enqueue(58) \n",
    "q.Enqueue(80) \n",
    "q.Enqueue(90) \n",
    "q.Enqueue(100)  \n",
    "q.printq()"
   ]
  },
  {
   "cell_type": "code",
   "execution_count": 15,
   "metadata": {},
   "outputs": [],
   "source": [
    "reverse(q, 3)"
   ]
  },
  {
   "cell_type": "code",
   "execution_count": 16,
   "metadata": {},
   "outputs": [
    {
     "name": "stdout",
     "output_type": "stream",
     "text": [
      "[30, 27, 56, 45, 85, 92, 58, 80, 90, 100]\n"
     ]
    }
   ],
   "source": [
    "q.printq()"
   ]
  },
  {
   "cell_type": "markdown",
   "metadata": {},
   "source": [
    "### 3. Interleave the first half of the queue with second half\n",
    "\n",
    "Given a queue of integers of even length, rearrange the elements by interleaving the first half of the queue with the second half of the queue.\n",
    "**Only a stack can be used as an auxiliary space.**\n",
    "\n",
    "**Steps:**\n",
    "1. Push the first half elements of queue to stack.\n",
    "2. Enqueue back the stack elements.\n",
    "3. Dequeue the first half elements of the queue and enqueue them back.\n",
    "4. Again push the first half elements into the stack.\n",
    "5. Interleave the elements of queue and stack."
   ]
  },
  {
   "cell_type": "code",
   "execution_count": 17,
   "metadata": {},
   "outputs": [],
   "source": [
    "# We will use the classes defined above already\n",
    "def interleave(q):\n",
    "    size = q.size()\n",
    "    Stack = stack()\n",
    "    if size == 0:\n",
    "        return\n",
    "    first_half = int(size/2)\n",
    "    \n",
    "    for i in range(first_half):\n",
    "        data = q.front() \n",
    "        Stack.push(data)\n",
    "        q.Dequeue()\n",
    "    \n",
    "    for i in range(first_half):\n",
    "        q.Enqueue(Stack.pop())\n",
    "\n",
    "        \n",
    "    for i in range(first_half):\n",
    "        data = q.front() \n",
    "        q.Enqueue(data)\n",
    "        q.Dequeue()\n",
    "\n",
    "    \n",
    "    for i in range(first_half):\n",
    "        data = q.front() \n",
    "        Stack.push(data)\n",
    "        q.Dequeue()\n",
    "    \n",
    "    for i in range(first_half):\n",
    "        q.Enqueue(Stack.pop())\n",
    "        data = q.front()\n",
    "        q.Enqueue(data)\n",
    "        q.Dequeue()\n",
    "        "
   ]
  },
  {
   "cell_type": "code",
   "execution_count": 18,
   "metadata": {},
   "outputs": [
    {
     "name": "stdout",
     "output_type": "stream",
     "text": [
      "[56, 27, 30, 45, 85, 92, 58, 80, 90, 100]\n"
     ]
    }
   ],
   "source": [
    "q = queue() \n",
    "q.Enqueue(56) \n",
    "q.Enqueue(27) \n",
    "q.Enqueue(30) \n",
    "q.Enqueue(45) \n",
    "q.Enqueue(85) \n",
    "q.Enqueue(92) \n",
    "q.Enqueue(58) \n",
    "q.Enqueue(80) \n",
    "q.Enqueue(90) \n",
    "q.Enqueue(100)  \n",
    "q.printq()"
   ]
  },
  {
   "cell_type": "code",
   "execution_count": 19,
   "metadata": {},
   "outputs": [],
   "source": [
    "interleave(q)"
   ]
  },
  {
   "cell_type": "code",
   "execution_count": 20,
   "metadata": {},
   "outputs": [
    {
     "name": "stdout",
     "output_type": "stream",
     "text": [
      "[56, 92, 27, 58, 30, 80, 45, 90, 85, 100]\n"
     ]
    }
   ],
   "source": [
    "q.printq()"
   ]
  },
  {
   "cell_type": "markdown",
   "metadata": {},
   "source": [
    "**Above implementation only works for even number of items. Need modification to work with odd numbers**"
   ]
  },
  {
   "cell_type": "markdown",
   "metadata": {},
   "source": [
    "## Other forms of Queue "
   ]
  },
  {
   "cell_type": "markdown",
   "metadata": {},
   "source": [
    "## Priority Queue \n",
    "Priority Queue is an extension of queue with following properties.\n",
    "\n",
    "Every item has a priority associated with it.\n",
    "An element with high priority is dequeued before an element with low priority.\n",
    "If two elements have the same priority, they are served according to their order in the queue.\n"
   ]
  },
  {
   "cell_type": "markdown",
   "metadata": {},
   "source": [
    "## Deque \n",
    "Deque or Double Ended Queue is a generalized version of Queue data structure that allows insert and delete at both ends."
   ]
  },
  {
   "cell_type": "markdown",
   "metadata": {},
   "source": [
    "**We will work on these in a different notebook. Next, we will work on some standard queue related questions asked in interviews. Here is the link to that notebook.**"
   ]
  },
  {
   "cell_type": "code",
   "execution_count": null,
   "metadata": {},
   "outputs": [],
   "source": []
  }
 ],
 "metadata": {
  "kernelspec": {
   "display_name": "Python 3",
   "language": "python",
   "name": "python3"
  },
  "language_info": {
   "codemirror_mode": {
    "name": "ipython",
    "version": 3
   },
   "file_extension": ".py",
   "mimetype": "text/x-python",
   "name": "python",
   "nbconvert_exporter": "python",
   "pygments_lexer": "ipython3",
   "version": "3.6.5"
  }
 },
 "nbformat": 4,
 "nbformat_minor": 2
}
